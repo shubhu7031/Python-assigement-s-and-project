{
  "nbformat": 4,
  "nbformat_minor": 0,
  "metadata": {
    "colab": {
      "name": "test.ipynb",
      "provenance": [],
      "collapsed_sections": []
    },
    "kernelspec": {
      "name": "python3",
      "display_name": "Python 3"
    },
    "language_info": {
      "name": "python"
    }
  },
  "cells": [
    {
      "cell_type": "code",
      "execution_count": null,
      "metadata": {
        "id": "i2rBRHzgDBaG",
        "colab": {
          "base_uri": "https://localhost:8080/"
        },
        "outputId": "2b0a1f82-8385-4b25-f4de-85aa29794c39"
      },
      "outputs": [
        {
          "output_type": "stream",
          "name": "stdout",
          "text": [
            "Enter your string:shubham\n",
            "s is constant\n",
            "h is constant\n",
            "u is vovel\n",
            "b is constant\n",
            "h is constant\n",
            "a is vovel\n",
            "m is constant\n"
          ]
        }
      ],
      "source": [
        "a=input(\"Enter your string:\")\n",
        "\n",
        "total=len(a)\n",
        "\n",
        "\n",
        "for letters in a: \n",
        "  if letters.lower() in(\"a\",\"e\",\"i\",\"o\",\"u\"):\n",
        "    print(f\"{letters} is vovel\")\n",
        "  elif letters.upper() in(\"A\",\"E\",\"I\",\"O\",\"U\"):\n",
        "    print(f\"{letters} is vovel\")\n",
        "  else:\n",
        "     print(f\"{letters} is constant\")"
      ]
    },
    {
      "cell_type": "code",
      "source": [
        "a=int(input(\"Enter the A:\"))\n",
        "b=int(input(\"Enter the B:\"))\n",
        "c=int(input(\"Enter the C:\"))\n",
        "\n",
        "if a>b and a>c:\n",
        "  print(f\"{a} is greater\")\n",
        "elif b>a and b>c:\n",
        "  print(f\"{b} is greater\")\n",
        "else:\n",
        "  print(f\"{c} is greater\")   "
      ],
      "metadata": {
        "id": "dPlTawynDNGn",
        "colab": {
          "base_uri": "https://localhost:8080/"
        },
        "outputId": "a86cf562-fdb2-4dc3-e2ac-f3ff7f051853"
      },
      "execution_count": null,
      "outputs": [
        {
          "output_type": "stream",
          "name": "stdout",
          "text": [
            "Enter the A:10\n",
            "Enter the B:20\n",
            "Enter the C:30\n",
            "30 is greater\n"
          ]
        }
      ]
    },
    {
      "cell_type": "code",
      "source": [
        "degree=input(\"Enter your degree:(ME\\BE):\")\n",
        "experience=int(input(\"Enter your experience in digit:\"))\n",
        "\n",
        "if degree==\"BE\" and experience<=5:\n",
        "  print(\"your salary will be 10000\")\n",
        "elif degree==\"ME\" and experience<=1:\n",
        "  print(\"your salary will be 10000\")\n",
        "elif degree==\"ME\" and experience>=5:\n",
        "  print(\"your salary will be 100000\")\n",
        "else:\n",
        "  print(\"you are a speical case you have to work for free\")"
      ],
      "metadata": {
        "id": "cWsCWlUWFnuV",
        "colab": {
          "base_uri": "https://localhost:8080/"
        },
        "outputId": "81aa1198-85de-4b8b-9407-808206809d90"
      },
      "execution_count": null,
      "outputs": [
        {
          "output_type": "stream",
          "name": "stdout",
          "text": [
            "Enter your degree:(ME\\BE):ME\n",
            "Enter your experience in digit:5\n",
            "your salary will be 100000\n"
          ]
        }
      ]
    },
    {
      "cell_type": "code",
      "source": [
        "char=\"a,b,c,d,e,f,g,h,i,j,k,l,m,n,o,p,q,r,s,t,u,v,w,x,y,z\"\n",
        "digit=\"1,2,3,4,5,6,7,8,9,10\"\n",
        "\n",
        "a=input(\"Enter anything:\")\n",
        "\n",
        "if a[i] in char:\n",
        "  print(\"char ye be ye\")\n",
        "elif a in digit:\n",
        "  print(\"digit ye be ye\")\n",
        "else:\n",
        "  print(\"Speical symbol he be ye\")"
      ],
      "metadata": {
        "id": "5i0H_8ka0ky6",
        "colab": {
          "base_uri": "https://localhost:8080/"
        },
        "outputId": "8d8d30d1-4723-43a8-b1f8-fa51b7289244"
      },
      "execution_count": null,
      "outputs": [
        {
          "output_type": "stream",
          "name": "stdout",
          "text": [
            "Enter anything:shubham\n",
            "char ye be ye\n"
          ]
        }
      ]
    },
    {
      "cell_type": "code",
      "source": [
        "a=input(\"Enter the digit you want to reverse:\")\n",
        "string = \"\".join(reversed(a))\n",
        "string=int(string)"
      ],
      "metadata": {
        "id": "R3J9odk01aMM",
        "colab": {
          "base_uri": "https://localhost:8080/"
        },
        "outputId": "28a93d2d-0d83-4a0f-fa82-dc2b52374d27"
      },
      "execution_count": null,
      "outputs": [
        {
          "name": "stdout",
          "output_type": "stream",
          "text": [
            "Enter the digit you want to reverse:1234567890\n"
          ]
        }
      ]
    },
    {
      "cell_type": "code",
      "source": [
        "string"
      ],
      "metadata": {
        "id": "cUqBCFPM4J69",
        "colab": {
          "base_uri": "https://localhost:8080/"
        },
        "outputId": "4a84967c-881f-4104-b196-70a422e5b832"
      },
      "execution_count": null,
      "outputs": [
        {
          "output_type": "execute_result",
          "data": {
            "text/plain": [
              "987654321"
            ]
          },
          "metadata": {},
          "execution_count": 9
        }
      ]
    },
    {
      "cell_type": "code",
      "source": [
        "a=int(input(\"Enter the number:\"))\n",
        "\n",
        "for i in range(1,a):\n",
        "  if(i%2==0):\n",
        "    if(i%6!=0):\n",
        "      print(i)"
      ],
      "metadata": {
        "id": "7rwmIENQ4Td3",
        "colab": {
          "base_uri": "https://localhost:8080/"
        },
        "outputId": "42700169-958e-42e1-f6cd-1a194b7fb800"
      },
      "execution_count": null,
      "outputs": [
        {
          "name": "stdout",
          "output_type": "stream",
          "text": [
            "Enter the number:2\n"
          ]
        }
      ]
    },
    {
      "cell_type": "code",
      "source": [
        "orginal_text=input(\"Enter the digit you want to reverse:\")\n",
        "reversed_text = \"\".join(reversed(orginal_text))\n",
        "if reversed_text ==orginal_text:\n",
        "  print(\"number is palindrome\")\n",
        "else:\n",
        "  print(\"number is not palindrome\")"
      ],
      "metadata": {
        "id": "vhsxMgUM5Vmu",
        "colab": {
          "base_uri": "https://localhost:8080/"
        },
        "outputId": "fec44c87-7c40-4a86-ac05-64fbb0b35633"
      },
      "execution_count": null,
      "outputs": [
        {
          "output_type": "stream",
          "name": "stdout",
          "text": [
            "Enter the digit you want to reverse:123456\n",
            "number is not palindrome\n"
          ]
        }
      ]
    },
    {
      "cell_type": "code",
      "source": [
        "a=[]\n",
        "total=int(input(\"how many number you have to add\"))\n",
        "\n",
        "for i in range(total):\n",
        "  value=int(input(\"Enter the number\"))\n",
        "  a.append(value)\n",
        "\n",
        "print(sum(a))"
      ],
      "metadata": {
        "id": "SaZtG9Km7pVL",
        "colab": {
          "base_uri": "https://localhost:8080/"
        },
        "outputId": "b72eeb24-b273-4466-b978-d69fb367087e"
      },
      "execution_count": null,
      "outputs": [
        {
          "output_type": "stream",
          "name": "stdout",
          "text": [
            "how many number you have to add5\n",
            "Enter the number10\n",
            "Enter the number20\n",
            "Enter the number30\n",
            "Enter the number40\n",
            "Enter the number50\n",
            "150\n"
          ]
        }
      ]
    },
    {
      "cell_type": "code",
      "source": [
        "a=[10,20,30]\n",
        "for values in a:\n",
        "    print(values)"
      ],
      "metadata": {
        "id": "603PaeMs-zz5",
        "colab": {
          "base_uri": "https://localhost:8080/"
        },
        "outputId": "fcb31c9a-6772-499d-85e2-31f6f65e470b"
      },
      "execution_count": null,
      "outputs": [
        {
          "output_type": "stream",
          "name": "stdout",
          "text": [
            "10\n",
            "20\n",
            "30\n"
          ]
        }
      ]
    },
    {
      "cell_type": "code",
      "source": [
        "a=\"shubham\"\n",
        "\n",
        "for i in range(len(a)):\n",
        "  print(a[i])\n"
      ],
      "metadata": {
        "id": "8tO7zwSd_-TL",
        "colab": {
          "base_uri": "https://localhost:8080/"
        },
        "outputId": "be733043-4d39-4ca4-d522-31a2a6eefe8e"
      },
      "execution_count": null,
      "outputs": [
        {
          "output_type": "stream",
          "name": "stdout",
          "text": [
            "s\n",
            "h\n",
            "u\n",
            "b\n",
            "h\n",
            "a\n",
            "m\n"
          ]
        }
      ]
    },
    {
      "cell_type": "code",
      "source": [
        "def double_char(s):\n",
        "    out = []\n",
        "    for i in s:\n",
        "        out.append(i+\"\"+i)\n",
        "    return \"\".join(out)\n",
        "\n",
        "double_char(\"string\")"
      ],
      "metadata": {
        "colab": {
          "base_uri": "https://localhost:8080/",
          "height": 35
        },
        "id": "9YvePLiZrguB",
        "outputId": "c03269c0-ecac-434c-ca10-c1e7c90097ab"
      },
      "execution_count": null,
      "outputs": [
        {
          "output_type": "execute_result",
          "data": {
            "text/plain": [
              "'ssttrriinngg'"
            ],
            "application/vnd.google.colaboratory.intrinsic+json": {
              "type": "string"
            }
          },
          "metadata": {},
          "execution_count": 18
        }
      ]
    },
    {
      "cell_type": "code",
      "source": [
        "a=input(\"Enter your name:\")\n",
        "b=input(\"Enter the letter you want to find the index of:\")\n",
        "stack=[]\n",
        "for letters in a:\n",
        "  stack.append(letters)\n",
        "  if (stack.index(b) in stack):\n",
        "    print(f\" the variable {b}is present at {stack.index(b)}\")\n",
        "  else:\n",
        "    print(\"no variable found in the stack\")\n",
        "  "
      ],
      "metadata": {
        "colab": {
          "base_uri": "https://localhost:8080/"
        },
        "id": "WscMBxLHsPAF",
        "outputId": "452cea77-0d19-4027-de75-38abff54303b"
      },
      "execution_count": null,
      "outputs": [
        {
          "output_type": "stream",
          "name": "stdout",
          "text": [
            "Enter your name:shubham\n",
            "Enter the letter you want to find the index of:s\n",
            "no variable found in the stack\n",
            "no variable found in the stack\n",
            "no variable found in the stack\n",
            "no variable found in the stack\n",
            "no variable found in the stack\n",
            "no variable found in the stack\n",
            "no variable found in the stack\n"
          ]
        }
      ]
    },
    {
      "cell_type": "code",
      "source": [
        "a=input(\"Enter your name:\")\n",
        "b=input(\"Enter the letter you want to find the index of:\")\n",
        "stack=[]\n",
        "for letters in a:\n",
        "  stack.append(letters)\n",
        "try:\n",
        "  index=stack.index(b)\n",
        "  if(stack[index] in stack):\n",
        "    print(f\"the variable {b} is present at the  stack index {index}\")\n",
        "  else:\n",
        "    print(\"variable not found \")\n",
        "except:\n",
        "  print(\"variable not in list\")\n",
        "\n",
        "\n"
      ],
      "metadata": {
        "colab": {
          "base_uri": "https://localhost:8080/"
        },
        "id": "wJeap9AoGUBx",
        "outputId": "3b3ca061-f984-43a7-e640-294f36883757"
      },
      "execution_count": null,
      "outputs": [
        {
          "output_type": "stream",
          "name": "stdout",
          "text": [
            "Enter your name:raj\n",
            "Enter the letter you want to find the index of:a\n",
            "the variable a is present at the  stack index 1\n"
          ]
        }
      ]
    },
    {
      "cell_type": "code",
      "source": [
        "def validate_pin(pin):\n",
        "    return len(pin) in (4, 6) and all(p in '0123456789' for p in pin)\n",
        "validate_pin(\"1234\")"
      ],
      "metadata": {
        "colab": {
          "base_uri": "https://localhost:8080/"
        },
        "id": "A5KbQPK4HQEI",
        "outputId": "6a76ff33-7036-4fe3-9ca8-59aec2a4b595"
      },
      "execution_count": 11,
      "outputs": [
        {
          "output_type": "execute_result",
          "data": {
            "text/plain": [
              "True"
            ]
          },
          "metadata": {},
          "execution_count": 11
        }
      ]
    },
    {
      "cell_type": "code",
      "source": [
        "b=int(input(\"Enter the number:\"))\n",
        "stack1=[]\n",
        "print(stack1)\n",
        "for i in range(b):\n",
        "  stack1.append(\"x\")\n",
        "print(stack1)\n",
        "\n",
        "for i in stack1:\n",
        "  stack1.pop()\n",
        "  print(stack1)\n",
        "\n"
      ],
      "metadata": {
        "id": "ni1mZBnCKsuB"
      },
      "execution_count": null,
      "outputs": []
    }
  ]
}