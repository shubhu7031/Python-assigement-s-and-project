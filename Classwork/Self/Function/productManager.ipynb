{
 "cells": [
  {
   "cell_type": "markdown",
   "metadata": {},
   "source": [
    "# Login Menu\n",
    "### --- are you a customre\n",
    "### --- are you a product manager\n",
    "# -------------------------------------------"
   ]
  },
  {
   "cell_type": "markdown",
   "metadata": {},
   "source": [
    "# IF CUSTOMER\n",
    "## --- Choose from the following basket of fruits                   \n",
    "## --- What do you want to buy DISPLAY ITEMS + PRICE                            DONE\n",
    "## --- How much quantity do you want to buy\n",
    "## --- CHECK IF ENOUGH QUANTITY AVAILABLE\n",
    "\n",
    "## --- IF ORDER QUANTITY == AVAILABLE QUAANTITY\n",
    "### --- Execute order\n",
    "### --- Remove that quantity from available stock\n",
    "### --- Ask if want to add more items in the basket\n",
    "### --- Show Bill\n",
    "\n",
    "## --- IF ORDER QUANTITY != AVAILABLE QUAANTITY\n",
    "### --- ERROR LOW QUANTITY\n",
    "### --- SHOW AVAILABLE STOCK\n",
    "### --- Ask if want to add available items in the basket\n",
    "### --- Execute order\n",
    "### --- Ask if want to add more items in the basket\n",
    "### --- Show Bill\n",
    "# -------------------------------------------"
   ]
  },
  {
   "cell_type": "markdown",
   "metadata": {},
   "source": [
    "# IF PRODUCT MANAGER\n",
    "## --- SHOW MENU TO ADD, REMOVE, VIEW STOCK\n",
    "\n",
    "## IF ADD STOCK\n",
    "### --- How much quantity do you want to add\n",
    "### --- ADD and Update new PRICE for all\n",
    "### --- CONFIRM STOCK ADDED\n",
    "### --- SHOW ALL STOCK\n",
    "\n",
    "## IF REMOVE STOCK\n",
    "### --- How much quantity do you want to remove\n",
    "### --- CONFIRM STOCK REMOVED\n",
    "### --- SHOW ALL STOCK\n",
    "\n"
   ]
  },
  {
   "cell_type": "code",
   "execution_count": 7,
   "metadata": {},
   "outputs": [],
   "source": [
    "testDict = {\"kiwi\" : 20, \"apple\" : 15, \"banana\" : 35, \"orange\" : 50}\n",
    "stockPrice = {\"kiwi\" : 20, \"banana\" : 5, \"apple\" : 10, \"orange\" : 7}\n",
    "custDict = {}\n",
    "custPrice = {}"
   ]
  },
  {
   "cell_type": "code",
   "execution_count": 8,
   "metadata": {},
   "outputs": [
    {
     "name": "stdout",
     "output_type": "stream",
     "text": [
      "1)  Kiwi\t20 pcs\tRs.20 each\n",
      "2)  Apple\t15 pcs\tRs.10 each\n",
      "3)  Banana\t35 pcs\tRs.5 each\n",
      "4)  Orange\t50 pcs\tRs.7 each\n"
     ]
    }
   ],
   "source": [
    "counter = 1\n",
    "\n",
    "for items, quantity in testDict.items():\n",
    "    if items in stockPrice:\n",
    "        print(f\"{counter})  {items.capitalize()}\\t{quantity} pcs\\tRs.{stockPrice.get(items)} each\")\n",
    "        counter += 1\n",
    "    else:\n",
    "        print(\"ERROR\")\n",
    "    "
   ]
  },
  {
   "cell_type": "code",
   "execution_count": 1,
   "metadata": {},
   "outputs": [],
   "source": [
    "userInput  = int(input(\"Enter a number:\")) - 1"
   ]
  },
  {
   "cell_type": "code",
   "execution_count": 2,
   "metadata": {},
   "outputs": [
    {
     "ename": "NameError",
     "evalue": "name 'testDict' is not defined",
     "output_type": "error",
     "traceback": [
      "\u001b[1;31m---------------------------------------------------------------------------\u001b[0m",
      "\u001b[1;31mNameError\u001b[0m                                 Traceback (most recent call last)",
      "\u001b[1;32me:\\Shubham\\TOPS\\Self\\Function\\productManager.ipynb Cell 7'\u001b[0m in \u001b[0;36m<module>\u001b[1;34m\u001b[0m\n\u001b[0;32m      <a href='vscode-notebook-cell:/e%3A/Shubham/TOPS/Self/Function/productManager.ipynb#ch0000006?line=0'>1</a>\u001b[0m \u001b[39m#testDict = {\"kiwi\" : 20, \"apple\" : 15, \"banana\" : 35, \"orange\" : 50}\u001b[39;00m\n\u001b[1;32m----> <a href='vscode-notebook-cell:/e%3A/Shubham/TOPS/Self/Function/productManager.ipynb#ch0000006?line=1'>2</a>\u001b[0m keys_list \u001b[39m=\u001b[39m \u001b[39mlist\u001b[39m(testDict)\n\u001b[0;32m      <a href='vscode-notebook-cell:/e%3A/Shubham/TOPS/Self/Function/productManager.ipynb#ch0000006?line=2'>3</a>\u001b[0m itemName \u001b[39m=\u001b[39m keys_list[userInput]\n\u001b[0;32m      <a href='vscode-notebook-cell:/e%3A/Shubham/TOPS/Self/Function/productManager.ipynb#ch0000006?line=5'>6</a>\u001b[0m \u001b[39mprint\u001b[39m(\u001b[39mf\u001b[39m\u001b[39m\"\u001b[39m\u001b[39mKey List \u001b[39m\u001b[39m\\t\u001b[39;00m\u001b[39m\\t\u001b[39;00m\u001b[39m \u001b[39m\u001b[39m{\u001b[39;00mkeys_list\u001b[39m}\u001b[39;00m\u001b[39m\"\u001b[39m)\n",
      "\u001b[1;31mNameError\u001b[0m: name 'testDict' is not defined"
     ]
    }
   ],
   "source": [
    "#testDict = {\"kiwi\" : 20, \"apple\" : 15, \"banana\" : 35, \"orange\" : 50}\n",
    "keys_list = list(testDict)\n",
    "itemName = keys_list[userInput]\n",
    "\n",
    "\n",
    "print(f\"Key List \\t\\t {keys_list}\")\n",
    "print(f\"User Input \\t\\t {userInput}\")\n",
    "print(f\"Item Name \\t\\t {itemName.capitalize()}\")\n",
    "print(f\"Avalable Quantity \\t {testDict.get(itemName)} pcs\")\n"
   ]
  },
  {
   "cell_type": "code",
   "execution_count": 11,
   "metadata": {},
   "outputs": [],
   "source": [
    "def customerPriceDict(itemName, itemQuantity):\n",
    "    \n",
    "    customerPrice = custDict.copy()\n",
    "\n",
    "    for fruits, quantity in custDict.items():\n",
    "        customerPrice.update({itemName : (itemQuantity * stockPrice.get(itemName))})"
   ]
  },
  {
   "cell_type": "code",
   "execution_count": 19,
   "metadata": {},
   "outputs": [
    {
     "name": "stdout",
     "output_type": "stream",
     "text": [
      "Order Successful\n",
      "\n",
      "\n",
      "Current Available Stock\n",
      "1)  Kiwi\t5 pcs\n",
      "2)  Apple\t15 pcs\n",
      "3)  Banana\t35 pcs\n",
      "4)  Orange\t50 pcs\n",
      "\n",
      "\n",
      "Customer Ordered Stock\n",
      "5)  Kiwi\t15 pcs\n"
     ]
    }
   ],
   "source": [
    "while True:\n",
    "\n",
    "    customer_addItemQuantity = int(input(f\"\\nPlease enter how many pcs you want to add:\\t\"))\n",
    "\n",
    "    if customer_addItemQuantity > 0:\n",
    "\n",
    "        if testDict.get(itemName) > 0:\n",
    "\n",
    "            if customer_addItemQuantity <= testDict.get(itemName):\n",
    "\n",
    "                print(\"Order Successful\")\n",
    "                testDict[itemName] = testDict.get(itemName) - customer_addItemQuantity\n",
    "\n",
    "                if itemName not in custDict:\n",
    "                    custDict[itemName] = customer_addItemQuantity\n",
    "                    \n",
    "                    # custPrice[itemName] = (customer_addItemQuantity * stockPrice.get(itemName))\n",
    "                else:\n",
    "                    custDict[itemName] = custDict.get(itemName) + customer_addItemQuantity\n",
    "                    # custPrice.update({itemName : (customer_addItemQuantity * stockPrice.get(itemName))})\n",
    "                \n",
    "                if testDict.get(itemName) == 0:\n",
    "                    testDict.pop(itemName)\n",
    "                \n",
    "                customerPriceDict(itemName, customer_addItemQuantity)\n",
    "                    \n",
    "                # custPrice = custDict.copy()\n",
    "\n",
    "                # for fruits, quantity in custDict.items():\n",
    "                #     custPrice.update({itemName : (customer_addItemQuantity * stockPrice.get(itemName))})\n",
    "                \n",
    "                counter = 1\n",
    "                print(\"\\n\\nCurrent Available Stock\")\n",
    "                for items, quantity in testDict.items():\n",
    "                    print(f\"{counter})  {items.capitalize()}\\t{quantity} pcs\")\n",
    "                    counter += 1\n",
    "                    \n",
    "                print(\"\\n\\nCustomer Ordered Stock\")\n",
    "                for items, quantity in custDict.items():\n",
    "                    print(f\"{counter})  {items.capitalize()}\\t{quantity} pcs\")\n",
    "                    counter += 1\n",
    "                \n",
    "                break\n",
    "            else:\n",
    "                print(\"\\n\\n\\t\\tERROR\\n\\n\")\n",
    "                print(\"Insufficient Stock\")\n",
    "                print(f\"Current Stock is {testDict.get(itemName)}\")\n",
    "                customer_addItemQuantity = int(input(f\"\\nQuantity for {itemName} must be less than {testDict.get(itemName)}. ADD AGAIN:\\t\"))\n",
    "        else:\n",
    "            print(f\"\\n\\n\\t\\t{itemName.capitalize()}s are out of stock.\")\n",
    "            print(\"\\t\\t  SORRY FOR THE TROUBLE\")\n",
    "            break\n",
    "    else:\n",
    "        customer_addItemQuantity = int(input(f\"\\nQuantity for must be more than 0. ADD AGAIN:\\t\"))\n",
    "        "
   ]
  },
  {
   "cell_type": "code",
   "execution_count": 20,
   "metadata": {},
   "outputs": [
    {
     "name": "stdout",
     "output_type": "stream",
     "text": [
      "Quantity Added \t\t 5 Kiwis\n"
     ]
    }
   ],
   "source": [
    "print(f\"Quantity Added \\t\\t {customer_addItemQuantity} {itemName.capitalize()}s\")"
   ]
  },
  {
   "cell_type": "code",
   "execution_count": null,
   "metadata": {},
   "outputs": [],
   "source": []
  },
  {
   "cell_type": "code",
   "execution_count": 21,
   "metadata": {},
   "outputs": [
    {
     "name": "stdout",
     "output_type": "stream",
     "text": [
      "1)  Kiwi\t5 pcs\tRs.20 each\n",
      "2)  Apple\t15 pcs\tRs.10 each\n",
      "3)  Banana\t35 pcs\tRs.5 each\n",
      "4)  Orange\t50 pcs\tRs.7 each\n"
     ]
    }
   ],
   "source": [
    "counter = 1\n",
    "\n",
    "for items, quantity in testDict.items():\n",
    "    print(f\"{counter})  {items.capitalize()}\\t{quantity} pcs\\tRs.{stockPrice.get(items)} each\")\n",
    "    counter += 1"
   ]
  },
  {
   "cell_type": "code",
   "execution_count": 22,
   "metadata": {},
   "outputs": [
    {
     "name": "stdout",
     "output_type": "stream",
     "text": [
      "1)  Kiwi\t15 pcs\n"
     ]
    }
   ],
   "source": [
    "counter = 1\n",
    "\n",
    "for items, quantity in custDict.items():\n",
    "    print(f\"{counter})  {items.capitalize()}\\t{quantity} pcs\")\n",
    "    counter += 1"
   ]
  },
  {
   "cell_type": "code",
   "execution_count": 23,
   "metadata": {},
   "outputs": [
    {
     "data": {
      "text/plain": [
       "1"
      ]
     },
     "execution_count": 23,
     "metadata": {},
     "output_type": "execute_result"
    }
   ],
   "source": [
    "len(custDict)"
   ]
  },
  {
   "cell_type": "code",
   "execution_count": 24,
   "metadata": {},
   "outputs": [
    {
     "name": "stdout",
     "output_type": "stream",
     "text": [
      "Total amount Payable = 0\n"
     ]
    }
   ],
   "source": [
    "counter = 1\n",
    "amountToPay = 0\n",
    "\n",
    "for fruits, prices in custPrice.items():\n",
    "    print(f\"You have bought {custDict.get(fruits)} {fruits} for Rs.{stockPrice.get(fruits)} each\")\n",
    "    amountToPay += prices\n",
    "    \n",
    "print(f\"Total amount Payable = {amountToPay}\")\n"
   ]
  },
  {
   "cell_type": "code",
   "execution_count": 18,
   "metadata": {},
   "outputs": [
    {
     "name": "stdout",
     "output_type": "stream",
     "text": [
      "{}\n"
     ]
    }
   ],
   "source": [
    "print(custPrice)"
   ]
  },
  {
   "cell_type": "code",
   "execution_count": null,
   "metadata": {},
   "outputs": [],
   "source": []
  }
 ],
 "metadata": {
  "interpreter": {
   "hash": "31f2aee4e71d21fbe5cf8b01ff0e069b9275f58929596ceb00d14d90e3e16cd6"
  },
  "kernelspec": {
   "display_name": "Python 3.8.9 64-bit",
   "language": "python",
   "name": "python3"
  },
  "language_info": {
   "codemirror_mode": {
    "name": "ipython",
    "version": 3
   },
   "file_extension": ".py",
   "mimetype": "text/x-python",
   "name": "python",
   "nbconvert_exporter": "python",
   "pygments_lexer": "ipython3",
   "version": "3.10.1"
  },
  "orig_nbformat": 4
 },
 "nbformat": 4,
 "nbformat_minor": 2
}
