{
 "cells": [
  {
   "cell_type": "code",
   "execution_count": 2,
   "metadata": {},
   "outputs": [
    {
     "name": "stdout",
     "output_type": "stream",
     "text": [
      "-60\n"
     ]
    }
   ],
   "source": [
    "def sub(*value):\n",
    "    ans=0\n",
    "\n",
    "    \n",
    "    for i in value:\n",
    "        ans=ans-i \n",
    "    print(ans)\n",
    "\n",
    "sub(10,20,30)"
   ]
  },
  {
   "cell_type": "code",
   "execution_count": 5,
   "metadata": {},
   "outputs": [
    {
     "name": "stdout",
     "output_type": "stream",
     "text": [
      "20\n"
     ]
    }
   ],
   "source": [
    "def sub(*value):\n",
    "    ans=0\n",
    "\n",
    "\n",
    "    for i in value:\n",
    "        ans=-ans+i\n",
    "    print(ans)\n",
    "\n",
    "\n",
    "sub(10,20,30)"
   ]
  },
  {
   "cell_type": "code",
   "execution_count": 7,
   "metadata": {},
   "outputs": [],
   "source": [
    "def sub(a,*value):\n",
    "    sub=0\n",
    "\n",
    "    for i in value:\n",
    "        pass"
   ]
  },
  {
   "cell_type": "code",
   "execution_count": 12,
   "metadata": {},
   "outputs": [
    {
     "name": "stdout",
     "output_type": "stream",
     "text": [
      "-50\n"
     ]
    }
   ],
   "source": [
    "def sub(num,*value):\n",
    "    sub=num\n",
    "    for i in value:\n",
    "        sub=sub-i\n",
    "    print(sub)\n",
    "\n",
    "sub(20,30,40)"
   ]
  },
  {
   "cell_type": "code",
   "execution_count": 13,
   "metadata": {},
   "outputs": [
    {
     "name": "stdout",
     "output_type": "stream",
     "text": [
      "6000\n"
     ]
    }
   ],
   "source": [
    "def mul(num,*value):\n",
    "    mul=num\n",
    "    for i in value:\n",
    "        mul=mul*i\n",
    "    print(mul)\n",
    "\n",
    "mul(10,20,30)"
   ]
  },
  {
   "cell_type": "code",
   "execution_count": 22,
   "metadata": {},
   "outputs": [
    {
     "name": "stdout",
     "output_type": "stream",
     "text": [
      "3.3333333333333335\n",
      "can't divisible by zero\n",
      "3.3333333333333335\n"
     ]
    }
   ],
   "source": [
    "def div(num,*value):\n",
    "    div=num\n",
    "    for i in value:\n",
    "        if i==0:\n",
    "            print(\"can't divisible by zero\")\n",
    "        else:\n",
    "            div=div/i\n",
    "            print(div)\n",
    "\n",
    "div(10,3,0)"
   ]
  },
  {
   "cell_type": "code",
   "execution_count": 1,
   "metadata": {},
   "outputs": [
    {
     "name": "stdout",
     "output_type": "stream",
     "text": [
      "3.3333333333333335\n",
      "can't divisible by zero\n"
     ]
    }
   ],
   "source": [
    "def div(num,*value):\n",
    "    div=num\n",
    "    for i in value:\n",
    "        if i==0:\n",
    "            print(\"can't divisible by zero\")\n",
    "            break\n",
    "        else:\n",
    "            div=div/i\n",
    "        print(div)\n",
    "div(10,3,0)"
   ]
  },
  {
   "cell_type": "code",
   "execution_count": 30,
   "metadata": {},
   "outputs": [
    {
     "name": "stdout",
     "output_type": "stream",
     "text": [
      "your name is Shubham\n",
      "your age is 21\n",
      "your Dob is 2000\n",
      "your degree is B.Tech\n"
     ]
    }
   ],
   "source": [
    "def data(**value):\n",
    "    for k,v in value.items():\n",
    "        print(f\"your {k} is {v}\")\n",
    "\n",
    "data(name=\"Shubham\",age=21,Dob=\"2000\",degree=\"B.Tech\")"
   ]
  },
  {
   "cell_type": "code",
   "execution_count": 31,
   "metadata": {},
   "outputs": [
    {
     "name": "stdout",
     "output_type": "stream",
     "text": [
      "30\n"
     ]
    }
   ],
   "source": [
    "def sum(a,b):\n",
    "    print(a+b)\n",
    "sum(10,20)"
   ]
  },
  {
   "cell_type": "code",
   "execution_count": 32,
   "metadata": {},
   "outputs": [
    {
     "name": "stdout",
     "output_type": "stream",
     "text": [
      "30\n"
     ]
    }
   ],
   "source": [
    "x=lambda a,b:a+b\n",
    "print(x(10,20))"
   ]
  },
  {
   "cell_type": "code",
   "execution_count": 36,
   "metadata": {},
   "outputs": [
    {
     "name": "stdout",
     "output_type": "stream",
     "text": [
      "eve\n"
     ]
    }
   ],
   "source": [
    "var=\"eve\"\n",
    "var2=var[::-1]\n",
    "print(var2)"
   ]
  },
  {
   "cell_type": "code",
   "execution_count": null,
   "metadata": {},
   "outputs": [],
   "source": []
  }
 ],
 "metadata": {
  "interpreter": {
   "hash": "630efa8c841ed908a1871166900f0172e2d7dd1b659f6822b5f34856df3c57af"
  },
  "kernelspec": {
   "display_name": "Python 3.10.1 64-bit",
   "language": "python",
   "name": "python3"
  },
  "language_info": {
   "codemirror_mode": {
    "name": "ipython",
    "version": 3
   },
   "file_extension": ".py",
   "mimetype": "text/x-python",
   "name": "python",
   "nbconvert_exporter": "python",
   "pygments_lexer": "ipython3",
   "version": "3.10.1"
  },
  "orig_nbformat": 4
 },
 "nbformat": 4,
 "nbformat_minor": 2
}
