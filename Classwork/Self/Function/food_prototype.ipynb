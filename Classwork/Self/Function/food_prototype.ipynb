{
 "cells": [
  {
   "cell_type": "code",
   "execution_count": 20,
   "metadata": {},
   "outputs": [
    {
     "name": "stdout",
     "output_type": "stream",
     "text": [
      "1. Apple \ttotal-quantity 10\t 100.RS\n",
      "2. kiwi \ttotal-quantity 20\t 200.RS\n"
     ]
    }
   ],
   "source": [
    "Manager_id=\"Admin\"\n",
    "Manager_password=\"Admin\"\n",
    "\n",
    "stock={\"Apple\":10,\"kiwi\":20}\n",
    "price={\"Apple\":100,\"kiwi\":200}\n",
    "stock_index={\"1\":\"Apple\",\"2\":\"kiwi\"}\n",
    "\n",
    "\n",
    "for i,j in stock_index.items():\n",
    "    print(f\"{i}. {j} \\ttotal-quantity {stock.get(j)}\\t {price.get(j)}.RS\")\n",
    "    # print(f\"{b}\")\n",
    "\n"
   ]
  },
  {
   "cell_type": "code",
   "execution_count": 21,
   "metadata": {},
   "outputs": [],
   "source": [
    "#Customer_menu\n",
    "\n",
    "Customer_show_menu={\"1\":\"Add item\",\n",
    "    \"2\":\"Remove item\",\n",
    "    \"3\":\"View item\",\n",
    "    \"4\":\"CheckOut\",\n",
    "    \"5\":\"Show Bill\",\n",
    "    \"6\":\"Exit\"\n",
    "    }                                                                                                               "
   ]
  },
  {
   "cell_type": "code",
   "execution_count": 11,
   "metadata": {},
   "outputs": [
    {
     "name": "stdout",
     "output_type": "stream",
     "text": [
      "1:Add item\n",
      "2:Remove item\n",
      "3:View item\n",
      "4:CheckOut\n",
      "5:Show Bill\n",
      "6:Exit\n"
     ]
    }
   ],
   "source": [
    "for x,v in Customer_show_menu.items():\n",
    "    print(f\"{x}:{v}\")\n"
   ]
  },
  {
   "cell_type": "code",
   "execution_count": null,
   "metadata": {},
   "outputs": [],
   "source": []
  }
 ],
 "metadata": {
  "interpreter": {
   "hash": "b73ca3a6efd9e3d978d399c5bfba072cfec22788e5a7dfe6a5b984ef01774c7b"
  },
  "kernelspec": {
   "display_name": "Python 3.7.0 32-bit",
   "language": "python",
   "name": "python3"
  },
  "language_info": {
   "codemirror_mode": {
    "name": "ipython",
    "version": 3
   },
   "file_extension": ".py",
   "mimetype": "text/x-python",
   "name": "python",
   "nbconvert_exporter": "python",
   "pygments_lexer": "ipython3",
   "version": "3.7.0"
  },
  "orig_nbformat": 4
 },
 "nbformat": 4,
 "nbformat_minor": 2
}
