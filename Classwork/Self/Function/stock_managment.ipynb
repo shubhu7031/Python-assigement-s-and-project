{
 "cells": [
  {
   "cell_type": "code",
   "execution_count": 4,
   "metadata": {},
   "outputs": [],
   "source": [
    "#are you Customer :DONE \n",
    "#are you Admin :DONE\n"
   ]
  },
  {
   "cell_type": "code",
   "execution_count": 2,
   "metadata": {},
   "outputs": [
    {
     "name": "stdout",
     "output_type": "stream",
     "text": [
      "Admin login successful\n"
     ]
    }
   ],
   "source": [
    "Admin_id=\"ADMIN\"\n",
    "Admin_password=\"ADMIN\"\n",
    "\n",
    "user_input=input(\"Enter your username\").upper()\n",
    "user_password=input(\"Enter your password\").upper()\n",
    "\n",
    "\n",
    "def admin_login():\n",
    "    pass\n",
    "\n",
    "def customer_login():\n",
    "    pass\n",
    "\n",
    "if user_input==Admin_id and user_password==Admin_password:\n",
    "    print(\"Admin login successful\")\n",
    "    admin_login()\n",
    "else:\n",
    "    print(\"Customer login successful\")\n",
    "    customer_login()\n",
    "\n"
   ]
  },
  {
   "cell_type": "code",
   "execution_count": 3,
   "metadata": {},
   "outputs": [],
   "source": [
    "#if customer login \n",
    "#disply all the data along with price"
   ]
  },
  {
   "cell_type": "markdown",
   "metadata": {},
   "source": [
    "# first we need 2 dict the one contain the Quanity along with the name as key and second contain the name with price"
   ]
  },
  {
   "cell_type": "code",
   "execution_count": 4,
   "metadata": {},
   "outputs": [],
   "source": [
    "stock_quantity={\"kiwi\":\"10\",\"apple\":\"20\"}\n",
    "stock_price={\"kiwi\":\"250\",\"apple\":\"200\"}\n",
    "custDict = {}\n",
    "custPrice = {}"
   ]
  },
  {
   "cell_type": "markdown",
   "metadata": {},
   "source": [
    "Now we have 3rd dict that contain the value of the fruit that work as count"
   ]
  },
  {
   "cell_type": "code",
   "execution_count": 5,
   "metadata": {},
   "outputs": [],
   "source": [
    "stock_index={\"1\":\"kiwi\",\"2\":\"apple\"}"
   ]
  },
  {
   "cell_type": "code",
   "execution_count": 6,
   "metadata": {},
   "outputs": [
    {
     "name": "stdout",
     "output_type": "stream",
     "text": [
      "1 kiwi 10 250\n",
      "2 apple 20 200\n"
     ]
    }
   ],
   "source": [
    "#display the available stock of fruit  #display_stock()\n",
    "count=1\n",
    "for fruit,quantity in stock_quantity.items():\n",
    "    if fruit in stock_price:\n",
    "        print(f\"{count} {fruit} {quantity} {stock_price.get(fruit)}\")\n",
    "        count+=1"
   ]
  },
  {
   "cell_type": "markdown",
   "metadata": {},
   "source": [
    "now if user select something from the stock which is available then we have to add that item along with the Quantiy to the user basket and for that we take one empty dict. "
   ]
  },
  {
   "cell_type": "code",
   "execution_count": 7,
   "metadata": {},
   "outputs": [],
   "source": [
    "keylist=list(stock_price)"
   ]
  },
  {
   "cell_type": "code",
   "execution_count": 8,
   "metadata": {},
   "outputs": [
    {
     "name": "stdout",
     "output_type": "stream",
     "text": [
      "['kiwi', 'apple']\n"
     ]
    }
   ],
   "source": [
    "print(keylist)"
   ]
  },
  {
   "cell_type": "code",
   "execution_count": null,
   "metadata": {},
   "outputs": [],
   "source": []
  }
 ],
 "metadata": {
  "interpreter": {
   "hash": "b73ca3a6efd9e3d978d399c5bfba072cfec22788e5a7dfe6a5b984ef01774c7b"
  },
  "kernelspec": {
   "display_name": "Python 3.7.0 32-bit",
   "language": "python",
   "name": "python3"
  },
  "language_info": {
   "codemirror_mode": {
    "name": "ipython",
    "version": 3
   },
   "file_extension": ".py",
   "mimetype": "text/x-python",
   "name": "python",
   "nbconvert_exporter": "python",
   "pygments_lexer": "ipython3",
   "version": "3.7.0"
  },
  "orig_nbformat": 4
 },
 "nbformat": 4,
 "nbformat_minor": 2
}
