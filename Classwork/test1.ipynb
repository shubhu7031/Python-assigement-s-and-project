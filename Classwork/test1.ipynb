{
 "cells": [
  {
   "cell_type": "code",
   "execution_count": 4,
   "metadata": {},
   "outputs": [
    {
     "name": "stdout",
     "output_type": "stream",
     "text": [
      "ok\n"
     ]
    }
   ],
   "source": [
    "stock={\"apple\":12,\"orange\":10}\n",
    "price={\"orange\":100,\"apple\":200}\n",
    "\n",
    "user_quantity=int(input(\"how much Quantity you want to buy\"))\n",
    "if user_quantity<=stock[\"apple\"]:\n",
    "    print(\"ok\")\n",
    "    current_stock = stock[\"apple\"] - user_quantity\n",
    "    stock[\"apple\"] = current_stock\n",
    "else:\n",
    "    print(f\"not Enough Quantity available\")"
   ]
  },
  {
   "cell_type": "code",
   "execution_count": 8,
   "metadata": {},
   "outputs": [
    {
     "ename": "SyntaxError",
     "evalue": "invalid syntax (Temp/ipykernel_2384/122872742.py, line 7)",
     "output_type": "error",
     "traceback": [
      "\u001b[1;36m  File \u001b[1;32m\"C:\\Users\\Shubham\\AppData\\Local\\Temp/ipykernel_2384/122872742.py\"\u001b[1;36m, line \u001b[1;32m7\u001b[0m\n\u001b[1;33m    def orange(user_quantity,stock.values)\u001b[0m\n\u001b[1;37m                                  ^\u001b[0m\n\u001b[1;31mSyntaxError\u001b[0m\u001b[1;31m:\u001b[0m invalid syntax\n"
     ]
    }
   ],
   "source": [
    "stock={\"apple\":12,\"orange\":10}\n",
    "price={\"orange\":100,\"apple\":200}\n",
    "\n",
    "user_quantity=10\n",
    "stock[\"orange\"]\n",
    "\n",
    "def choice()"
   ]
  },
  {
   "cell_type": "code",
   "execution_count": 9,
   "metadata": {},
   "outputs": [
    {
     "ename": "SyntaxError",
     "evalue": "invalid syntax (Temp/ipykernel_2384/2167019522.py, line 1)",
     "output_type": "error",
     "traceback": [
      "\u001b[1;36m  File \u001b[1;32m\"C:\\Users\\Shubham\\AppData\\Local\\Temp/ipykernel_2384/2167019522.py\"\u001b[1;36m, line \u001b[1;32m1\u001b[0m\n\u001b[1;33m    if user_choice=count\u001b[0m\n\u001b[1;37m                  ^\u001b[0m\n\u001b[1;31mSyntaxError\u001b[0m\u001b[1;31m:\u001b[0m invalid syntax\n"
     ]
    }
   ],
   "source": [
    "if user_choice=count"
   ]
  },
  {
   "cell_type": "code",
   "execution_count": 3,
   "metadata": {},
   "outputs": [
    {
     "name": "stdout",
     "output_type": "stream",
     "text": [
      "----------welcome AA------------\n",
      "*************************\n",
      "1   Fruit:apple    Quantity:12 200.RS\n",
      "2   Fruit:orange    Quantity:10 100.RS\n",
      "3   Fruit:kiwi    Quantity:12 200.RS\n",
      "**************************\n",
      "\n",
      "\n",
      "*************************\n",
      "1   Fruit:apple    Quantity:12 200.RS\n",
      "2   Fruit:orange    Quantity:10 100.RS\n",
      "3   Fruit:kiwi    Quantity:12 200.RS\n",
      "**************************\n",
      "\n",
      "\n",
      "*************************\n",
      "1   Fruit:apple    Quantity:12 200.RS\n",
      "2   Fruit:orange    Quantity:10 100.RS\n",
      "3   Fruit:kiwi    Quantity:12 200.RS\n",
      "**************************\n",
      "\n",
      "\n"
     ]
    },
    {
     "ename": "ValueError",
     "evalue": "invalid literal for int() with base 10: ''",
     "output_type": "error",
     "traceback": [
      "\u001b[1;31m---------------------------------------------------------------------------\u001b[0m",
      "\u001b[1;31mValueError\u001b[0m                                Traceback (most recent call last)",
      "\u001b[1;32m~\\AppData\\Local\\Temp/ipykernel_39844/181774716.py\u001b[0m in \u001b[0;36m<module>\u001b[1;34m\u001b[0m\n\u001b[0;32m     44\u001b[0m \u001b[0mpassword\u001b[0m\u001b[1;33m=\u001b[0m\u001b[0minput\u001b[0m\u001b[1;33m(\u001b[0m\u001b[1;34m\"Enter your password:\"\u001b[0m\u001b[1;33m)\u001b[0m\u001b[1;33m\u001b[0m\u001b[0m\n\u001b[0;32m     45\u001b[0m \u001b[1;33m\u001b[0m\u001b[0m\n\u001b[1;32m---> 46\u001b[1;33m \u001b[0mlogin\u001b[0m\u001b[1;33m(\u001b[0m\u001b[0muser_name\u001b[0m\u001b[1;33m,\u001b[0m\u001b[0mpassword\u001b[0m\u001b[1;33m)\u001b[0m\u001b[1;33m\u001b[0m\u001b[0m\n\u001b[0m",
      "\u001b[1;32m~\\AppData\\Local\\Temp/ipykernel_39844/181774716.py\u001b[0m in \u001b[0;36mlogin\u001b[1;34m(user_name, password)\u001b[0m\n\u001b[0;32m      4\u001b[0m     \u001b[1;32melse\u001b[0m\u001b[1;33m:\u001b[0m\u001b[1;33m\u001b[0m\u001b[0m\n\u001b[0;32m      5\u001b[0m         \u001b[0mprint\u001b[0m\u001b[1;33m(\u001b[0m\u001b[1;34mf\"----------welcome {user_name}------------\"\u001b[0m\u001b[1;33m)\u001b[0m\u001b[1;33m\u001b[0m\u001b[0m\n\u001b[1;32m----> 6\u001b[1;33m         \u001b[0mcustomer_login\u001b[0m\u001b[1;33m(\u001b[0m\u001b[1;33m)\u001b[0m\u001b[1;33m\u001b[0m\u001b[0m\n\u001b[0m\u001b[0;32m      7\u001b[0m \u001b[1;33m\u001b[0m\u001b[0m\n\u001b[0;32m      8\u001b[0m \u001b[0mstock\u001b[0m\u001b[1;33m=\u001b[0m\u001b[1;33m{\u001b[0m\u001b[1;34m\"apple\"\u001b[0m\u001b[1;33m:\u001b[0m\u001b[1;36m12\u001b[0m\u001b[1;33m,\u001b[0m\u001b[1;34m\"orange\"\u001b[0m\u001b[1;33m:\u001b[0m\u001b[1;36m10\u001b[0m\u001b[1;33m,\u001b[0m\u001b[1;34m\"kiwi\"\u001b[0m\u001b[1;33m:\u001b[0m\u001b[1;36m12\u001b[0m\u001b[1;33m}\u001b[0m\u001b[1;33m\u001b[0m\u001b[0m\n",
      "\u001b[1;32m~\\AppData\\Local\\Temp/ipykernel_39844/181774716.py\u001b[0m in \u001b[0;36mcustomer_login\u001b[1;34m()\u001b[0m\n\u001b[0;32m     24\u001b[0m         \u001b[0mprint\u001b[0m\u001b[1;33m(\u001b[0m\u001b[1;34m\"**************************\\n\\n\"\u001b[0m\u001b[1;33m)\u001b[0m\u001b[1;33m\u001b[0m\u001b[0m\n\u001b[0;32m     25\u001b[0m \u001b[1;33m\u001b[0m\u001b[0m\n\u001b[1;32m---> 26\u001b[1;33m         \u001b[0muser_choice\u001b[0m\u001b[1;33m=\u001b[0m\u001b[0mint\u001b[0m\u001b[1;33m(\u001b[0m\u001b[0minput\u001b[0m\u001b[1;33m(\u001b[0m\u001b[1;34m\"What do you want to buy:\"\u001b[0m\u001b[1;33m)\u001b[0m\u001b[1;33m)\u001b[0m\u001b[1;33m\u001b[0m\u001b[0m\n\u001b[0m\u001b[0;32m     27\u001b[0m \u001b[1;33m\u001b[0m\u001b[0m\n\u001b[0;32m     28\u001b[0m         \u001b[1;32mif\u001b[0m \u001b[0muser_choice\u001b[0m\u001b[1;33m==\u001b[0m\u001b[0mcount\u001b[0m\u001b[1;33m:\u001b[0m\u001b[1;33m\u001b[0m\u001b[0m\n",
      "\u001b[1;31mValueError\u001b[0m: invalid literal for int() with base 10: ''"
     ]
    }
   ],
   "source": [
    "def login(user_name,password):\n",
    "    if user_name==\"ADMIN\" and password==\"Admin\":\n",
    "        print(\"-------Welcom admin!------------\")\n",
    "    else:\n",
    "        print(f\"----------welcome {user_name}------------\")\n",
    "        customer_login()\n",
    "\n",
    "stock={\"apple\":12,\"orange\":10,\"kiwi\":12}\n",
    "price={\"orange\":100,\"apple\":200,\"kiwi\":200}\n",
    "\n",
    "\n",
    "def customer_login():\n",
    "\n",
    "    keeplooping=True\n",
    "    while keeplooping==True:\n",
    "    \n",
    "        count=0\n",
    "        print(\"*************************\")\n",
    "\n",
    "        for fruit,Quantity in stock.items():\n",
    "            count+=1\n",
    "            print(f\"{count}   Fruit:{fruit}    Quantity:{Quantity} {price.get(fruit)}.RS\")\n",
    "        \n",
    "        print(\"**************************\\n\\n\")\n",
    "\n",
    "        user_choice=int(input(\"What do you want to buy:\"))\n",
    "\n",
    "        if user_choice==count:\n",
    "            user_quantity=int(input(\"how much Quantity you want to buy\"))\n",
    "            if user_quantity<=stock[fruit]:\n",
    "                print(f\"{stock[fruit]} is add to cart\")\n",
    "                current_stock = stock[fruit] - user_quantity\n",
    "                stock[fruit] =current_stock\n",
    "            else:\n",
    "               print(f\"not Enough Quantity available\")\n",
    "    keeplooping==False\n",
    "\n",
    "\n",
    "    \n",
    "\n",
    "    \n",
    "#main\n",
    "user_name=input(\"Enter your user name:\").upper()\n",
    "password=input(\"Enter your password:\")\n",
    "\n",
    "login(user_name,password)   "
   ]
  },
  {
   "cell_type": "code",
   "execution_count": 5,
   "metadata": {},
   "outputs": [
    {
     "name": "stdout",
     "output_type": "stream",
     "text": [
      "sum: 200\n"
     ]
    }
   ],
   "source": [
    "def bill(MyDict):\n",
    "    \n",
    "    list=[]\n",
    "    for i in MyDict:\n",
    "        list.append(MyDict[i])\n",
    "        final=sum(list)\n",
    "    return final\n",
    "\n",
    "price={\"orange\":50,\"apple\":60,\"kiwi\":90}\n",
    "print(\"sum:\",bill(price))"
   ]
  },
  {
   "cell_type": "code",
   "execution_count": 13,
   "metadata": {},
   "outputs": [
    {
     "name": "stdout",
     "output_type": "stream",
     "text": [
      "[0, 'apple', 'orange', 'kiwi', 'b']\n"
     ]
    }
   ],
   "source": [
    "stock={\"apple\":12,\"orange\":10,\"kiwi\":10,\"b\":12}\n",
    "price={\"orange\":100,\"apple\":200}\n",
    "\n",
    "list1=[0]\n",
    "for key in stock.keys():\n",
    "    list1.append(key)\n",
    "\n",
    "print(list1)\n"
   ]
  },
  {
   "cell_type": "code",
   "execution_count": 12,
   "metadata": {},
   "outputs": [
    {
     "name": "stdout",
     "output_type": "stream",
     "text": [
      "Enter your choice for apple : \n",
      "Enter your choice for orange : \n",
      "Enter your choice for kiwi : \n",
      "Enter your choice for b : \n"
     ]
    }
   ],
   "source": [
    "length=len(list1)\n",
    "j = 0\n",
    "for i in list1:\n",
    "    print(f\"Enter your choice for {i} : \")\n"
   ]
  },
  {
   "cell_type": "code",
   "execution_count": 2,
   "metadata": {},
   "outputs": [
    {
     "name": "stdout",
     "output_type": "stream",
     "text": [
      "not empty\n"
     ]
    }
   ],
   "source": [
    "a={1,2,3}\n",
    "\n",
    "if a!={}:\n",
    "    print(\"not empty\")\n",
    "else:\n",
    "    print(\"empty\")"
   ]
  },
  {
   "cell_type": "code",
   "execution_count": null,
   "metadata": {},
   "outputs": [],
   "source": []
  }
 ],
 "metadata": {
  "interpreter": {
   "hash": "b73ca3a6efd9e3d978d399c5bfba072cfec22788e5a7dfe6a5b984ef01774c7b"
  },
  "kernelspec": {
   "display_name": "Python 3.7.0 32-bit",
   "language": "python",
   "name": "python3"
  },
  "language_info": {
   "codemirror_mode": {
    "name": "ipython",
    "version": 3
   },
   "file_extension": ".py",
   "mimetype": "text/x-python",
   "name": "python",
   "nbconvert_exporter": "python",
   "pygments_lexer": "ipython3",
   "version": "3.7.0"
  },
  "orig_nbformat": 4
 },
 "nbformat": 4,
 "nbformat_minor": 2
}
