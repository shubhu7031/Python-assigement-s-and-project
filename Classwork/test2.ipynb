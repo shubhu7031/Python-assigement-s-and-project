{
 "cells": [
  {
   "cell_type": "code",
   "execution_count": 35,
   "metadata": {},
   "outputs": [],
   "source": [
    "# num=int(input(\"Enter the number\"))\n",
    "\n",
    "# # def check_alone(num):\n",
    "# #     if num%2==0:\n",
    "# #         print(f\"{x} is odd\")\n",
    "# #     else:\n",
    "# #         print(f\"{x} is even\")\n",
    "\n",
    "# # check_alone(num)\n",
    "# oddlist=[]\n",
    "# evenlist=[]\n",
    "\n",
    "# for x in range(num):\n",
    " \n",
    "#  #print(x)\n",
    "\n",
    "#  if(x % 2) == 0:\n",
    "#      oddlist.append(x)\n",
    "#      print(f\"{x} is odd \")\n",
    "#  elif(x%2)!=0:\n",
    "#      evenlist.append(x)\n",
    "#      print(f\"{x} is even \")\n",
    "\n",
    "# print(\"odd number list:\",tuple(oddlist))\n",
    "# print(\"even number list:\",tuple(evenlist))\n",
    "\n"
   ]
  },
  {
   "cell_type": "code",
   "execution_count": 38,
   "metadata": {},
   "outputs": [
    {
     "name": "stdout",
     "output_type": "stream",
     "text": [
      "1) for odd number\n",
      "2) for even number\n",
      "3) for exit\n",
      "50 is odd number\n"
     ]
    },
    {
     "ename": "ValueError",
     "evalue": "invalid literal for int() with base 10: ''",
     "output_type": "error",
     "traceback": [
      "\u001b[1;31m---------------------------------------------------------------------------\u001b[0m",
      "\u001b[1;31mValueError\u001b[0m                                Traceback (most recent call last)",
      "Input \u001b[1;32mIn [38]\u001b[0m, in \u001b[0;36m<module>\u001b[1;34m\u001b[0m\n\u001b[0;32m      1\u001b[0m keeplooping\u001b[38;5;241m=\u001b[39m\u001b[38;5;124m\"\u001b[39m\u001b[38;5;124mTrue\u001b[39m\u001b[38;5;124m\"\u001b[39m\n\u001b[0;32m      2\u001b[0m \u001b[38;5;28;01mwhile\u001b[39;00m keeplooping:\n\u001b[1;32m----> 3\u001b[0m     choice\u001b[38;5;241m=\u001b[39m\u001b[38;5;28;43mint\u001b[39;49m\u001b[43m(\u001b[49m\u001b[38;5;28;43minput\u001b[39;49m\u001b[43m(\u001b[49m\u001b[38;5;124;43m\"\u001b[39;49m\u001b[38;5;124;43mEnter your choice:\u001b[39;49m\u001b[38;5;124;43m\"\u001b[39;49m\u001b[43m)\u001b[49m\u001b[43m)\u001b[49m\n\u001b[0;32m      4\u001b[0m     \u001b[38;5;28mprint\u001b[39m(\u001b[38;5;124m\"\u001b[39m\u001b[38;5;124m1) for odd number\u001b[39m\u001b[38;5;124m\"\u001b[39m)\n\u001b[0;32m      5\u001b[0m     \u001b[38;5;28mprint\u001b[39m(\u001b[38;5;124m\"\u001b[39m\u001b[38;5;124m2) for even number\u001b[39m\u001b[38;5;124m\"\u001b[39m)\n",
      "\u001b[1;31mValueError\u001b[0m: invalid literal for int() with base 10: ''"
     ]
    }
   ],
   "source": [
    "keeplooping=\"True\"\n",
    "while keeplooping:\n",
    "    choice=int(input(\"Enter your choice:\"))\n",
    "    print(\"1) for odd number\")\n",
    "    print(\"2) for even number\")\n",
    "    print(\"3) for exit\")\n",
    "\n",
    "    if choice ==1:\n",
    "        value=int(input(\"Enter number:\"))\n",
    "        # oddlist=[]\n",
    "        if (value%2)==0:\n",
    "            print(f\"{value} is odd number\")\n",
    "            # oddlist.append(value)\n",
    "        else:\n",
    "            print(f\"{value} is not odd number\")\n",
    "    elif choice==2:\n",
    "        value=int(input(\"Enter number:\"))\n",
    "        # evenlist=[]\n",
    "        if (value%2)!=0:\n",
    "            print(f\"{value} is even number\")\n",
    "            # evenlist.append(value)\n",
    "        else:\n",
    "            print(f\"{value} is not even number\")\n",
    "    else:\n",
    "        keeplooping=\"false\"\n",
    "        break\n",
    "\n",
    "   \n",
    "\n",
    "\n",
    "\n"
   ]
  },
  {
   "cell_type": "code",
   "execution_count": 43,
   "metadata": {},
   "outputs": [
    {
     "name": "stdout",
     "output_type": "stream",
     "text": [
      "(0, 2, 4, 6, 8, 10, 12, 14, 16, 18, 20, 22, 24, 26, 28, 30, 32, 34, 36, 38, 40, 42, 44, 46, 48)\n"
     ]
    }
   ],
   "source": [
    "value=int(input(\"Enter the value\"))\n",
    "oddlist=[]\n",
    "for x in range(value):\n",
    "    if (x%2==0):\n",
    "        oddlist.append(x)\n",
    "print(tuple(oddlist))\n"
   ]
  },
  {
   "cell_type": "code",
   "execution_count": 54,
   "metadata": {},
   "outputs": [
    {
     "name": "stdout",
     "output_type": "stream",
     "text": [
      "50 is not a prime number\n",
      "50 is not a prime number\n",
      "50 is not a prime number\n",
      "50 is not a prime number\n",
      "50 is not a prime number\n",
      "50 is not a prime number\n",
      "50 is not a prime number\n",
      "50 is not a prime number\n",
      "50 is not a prime number\n",
      "50 is not a prime number\n",
      "50 is not a prime number\n",
      "50 is not a prime number\n",
      "50 is not a prime number\n",
      "50 is not a prime number\n",
      "50 is not a prime number\n",
      "50 is not a prime number\n",
      "50 is not a prime number\n",
      "50 is not a prime number\n",
      "50 is not a prime number\n",
      "50 is not a prime number\n",
      "50 is not a prime number\n",
      "50 is not a prime number\n",
      "50 is not a prime number\n",
      "50 is not a prime number\n",
      "50 is not a prime number\n",
      "50 is not a prime number\n",
      "50 is not a prime number\n",
      "50 is not a prime number\n",
      "50 is not a prime number\n",
      "50 is not a prime number\n",
      "50 is not a prime number\n",
      "50 is not a prime number\n",
      "50 is not a prime number\n",
      "50 is not a prime number\n",
      "50 is not a prime number\n",
      "50 is not a prime number\n",
      "50 is not a prime number\n",
      "50 is not a prime number\n",
      "50 is not a prime number\n",
      "50 is not a prime number\n",
      "50 is not a prime number\n",
      "50 is not a prime number\n",
      "50 is not a prime number\n",
      "50 is not a prime number\n",
      "50 is not a prime number\n",
      "50 is not a prime number\n",
      "50 is not a prime number\n",
      "50 is not a prime number\n",
      "50 is not a prime number\n",
      "50 is not a prime number\n"
     ]
    }
   ],
   "source": [
    "num=int(input(\"Enter the number:\"))\n",
    "  \n",
    "# If given number is greater than 1\n",
    "if num > 1:\n",
    "    for x in range(num):\n",
    "\n",
    "    # Iterate from 2 to n / 2\n",
    "        for i in range(2, int(num/2)+1):\n",
    "            \n",
    "            # If num is divisible by any number between\n",
    "            # 2 and n / 2, it is not prime\n",
    "            if (num % i) == 0:\n",
    "                print(num, \"is not a prime number\")\n",
    "            break\n",
    "        else:\n",
    "            primelist=[]\n",
    "            print(num, \"is a prime number\")\n",
    "            primelist.append(num)\n",
    "            print(primelist)   \n",
    "else:\n",
    "    print(num, \"is not a prime number\")"
   ]
  },
  {
   "cell_type": "code",
   "execution_count": 73,
   "metadata": {},
   "outputs": [
    {
     "name": "stdout",
     "output_type": "stream",
     "text": [
      "[0]\n",
      "[2]\n",
      "[3]\n",
      "[5]\n",
      "[7]\n",
      "[11]\n",
      "[13]\n",
      "[17]\n",
      "[19]\n",
      "[23]\n",
      "[29]\n",
      "[31]\n",
      "[37]\n",
      "[41]\n",
      "[43]\n",
      "[47]\n",
      "(47,)\n"
     ]
    }
   ],
   "source": [
    "value=int(input(\"Enter the number:\"))\n",
    "for Number in range (value):\n",
    "    count = 0\n",
    "    for i in range(2, (Number//2 + 1)):\n",
    "        if(Number % i == 0):\n",
    "            count = count + 1\n",
    "            break\n",
    "\n",
    "    if (count == 0 and Number != 1):\n",
    "        primelist=[]\n",
    "        primelist.append(Number)\n",
    "        print(primelist)\n",
    "print(tuple(primelist))"
   ]
  },
  {
   "cell_type": "code",
   "execution_count": 77,
   "metadata": {},
   "outputs": [
    {
     "name": "stdout",
     "output_type": "stream",
     "text": [
      "[47]\n",
      "[2]\n",
      "[3]\n",
      "[3]\n",
      "[5]\n",
      "[5]\n",
      "[7]\n",
      "[7]\n",
      "[7]\n",
      "[7]\n",
      "[11]\n",
      "[11]\n",
      "[13]\n",
      "[13]\n",
      "[13]\n",
      "[13]\n",
      "[17]\n",
      "[17]\n",
      "[19]\n",
      "[19]\n",
      "[19]\n",
      "[19]\n",
      "[23]\n",
      "[23]\n",
      "[23]\n",
      "[23]\n",
      "[23]\n",
      "[23]\n",
      "[29]\n",
      "[29]\n",
      "[31]\n",
      "[31]\n",
      "[31]\n",
      "[31]\n",
      "[31]\n",
      "[31]\n",
      "[37]\n",
      "[37]\n",
      "[37]\n",
      "[37]\n",
      "[41]\n",
      "[41]\n",
      "[43]\n",
      "[43]\n",
      "[43]\n",
      "[43]\n",
      "[47]\n",
      "[47]\n",
      "[47]\n",
      "[47]\n"
     ]
    }
   ],
   "source": [
    "end_value=int(input(\"Enter the number:\"))\n",
    "Number = 1\n",
    "\n",
    "while(Number <= end_value):\n",
    "    count = 0\n",
    "    i = 2\n",
    "    \n",
    "    while(i <= Number//2):\n",
    "        if(Number % i == 0):\n",
    "            count = count + 1\n",
    "            break\n",
    "        i = i + 1\n",
    "\n",
    "    if (count == 0 and Number != 1):\n",
    "        primelist=[]\n",
    "        #print(\" %d\" %Number, end = '  ')\n",
    "        primelist.append(Number)\n",
    "    print(primelist)\n",
    "    Number = Number  + 1"
   ]
  },
  {
   "cell_type": "code",
   "execution_count": 82,
   "metadata": {},
   "outputs": [
    {
     "name": "stdout",
     "output_type": "stream",
     "text": [
      "[3, 5, 7, 9, 11, 13, 15, 17, 19, 21, 23, 25, 27, 29, 31, 33, 35, 37, 39, 41, 43, 45, 47, 49, 51, 53, 55, 57, 59, 61, 63, 65, 67, 69, 71, 73, 75, 77, 79, 81, 83, 85, 87, 89, 91, 93, 95, 97, 99]\n"
     ]
    }
   ],
   "source": [
    "list1=[]\n",
    "for num in range(1, 101):\n",
    "    for i in range(2, num):\n",
    "        if num % i == 0:\n",
    "            break\n",
    "        else:\n",
    "            list1.append(num)\n",
    "        break\n",
    "print(list1)"
   ]
  },
  {
   "cell_type": "code",
   "execution_count": 4,
   "metadata": {},
   "outputs": [
    {
     "name": "stdout",
     "output_type": "stream",
     "text": [
      "[2, 3, 5, 7]\n"
     ]
    }
   ],
   "source": [
    "l = range(1,10)\n",
    "#primes = [item for item in l if item>1 and len([i for i in range(2,item/2+1) if item % i == 0])==0]\n",
    "primes=[item for item in l if item>1 and len([i for i in range(2,item) if item%i==0])==0]\n",
    "print(primes)"
   ]
  },
  {
   "cell_type": "code",
   "execution_count": null,
   "metadata": {},
   "outputs": [],
   "source": []
  }
 ],
 "metadata": {
  "interpreter": {
   "hash": "630efa8c841ed908a1871166900f0172e2d7dd1b659f6822b5f34856df3c57af"
  },
  "kernelspec": {
   "display_name": "Python 3.10.1 64-bit",
   "language": "python",
   "name": "python3"
  },
  "language_info": {
   "codemirror_mode": {
    "name": "ipython",
    "version": 3
   },
   "file_extension": ".py",
   "mimetype": "text/x-python",
   "name": "python",
   "nbconvert_exporter": "python",
   "pygments_lexer": "ipython3",
   "version": "3.7.0"
  },
  "orig_nbformat": 4
 },
 "nbformat": 4,
 "nbformat_minor": 2
}
