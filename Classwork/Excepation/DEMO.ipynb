{
 "cells": [
  {
   "cell_type": "code",
   "execution_count": 8,
   "metadata": {},
   "outputs": [
    {
     "name": "stdout",
     "output_type": "stream",
     "text": [
      "invalid literal for int() with base 10: 'e'\n",
      "THANK YOU!!!\n"
     ]
    }
   ],
   "source": [
    "try:\n",
    "    num1=int(input(\"chal ne bhai:\"))\n",
    "    num2=int(input(\"chal ne bhai 2:\"))\n",
    "except Exception as E:\n",
    "    print(E)\n",
    "else:\n",
    "    ans=num1+num2\n",
    "    print(ans)\n",
    "finally:\n",
    "    print(\"THANK YOU!!!\")\n",
    "    \n",
    "\n",
    "\n"
   ]
  },
  {
   "cell_type": "code",
   "execution_count": null,
   "metadata": {},
   "outputs": [],
   "source": []
  }
 ],
 "metadata": {
  "interpreter": {
   "hash": "338b3621c20249f62238398016242cfd34d9e3739bdb4c2168e02c349ed95646"
  },
  "kernelspec": {
   "display_name": "Python 3.7.0 32-bit",
   "language": "python",
   "name": "python3"
  },
  "language_info": {
   "codemirror_mode": {
    "name": "ipython",
    "version": 3
   },
   "file_extension": ".py",
   "mimetype": "text/x-python",
   "name": "python",
   "nbconvert_exporter": "python",
   "pygments_lexer": "ipython3",
   "version": "3.7.0"
  },
  "orig_nbformat": 4
 },
 "nbformat": 4,
 "nbformat_minor": 2
}
