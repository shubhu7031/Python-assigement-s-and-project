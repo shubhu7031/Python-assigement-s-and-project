{
  "cells": [
    {
      "cell_type": "code",
      "execution_count": 9,
      "metadata": {
        "colab": {
          "base_uri": "https://localhost:8080/"
        },
        "id": "XKYaxwF4Lpki",
        "outputId": "352eed6a-7fcc-4d25-f643-b2d5f81f6314"
      },
      "outputs": [
        {
          "name": "stdout",
          "output_type": "stream",
          "text": [
            "Enter the value:5\n",
            "positive\n"
          ]
        }
      ],
      "source": [
        "a=int(input(\"Enter the value:\"))\n",
        "\n",
        "if a==0:\n",
        "  print(\"zero\")\n",
        "elif a>0:\n",
        "  print(\"positive\")\n",
        "elif a<0:\n",
        "  print(\"negative\")"
      ]
    },
    {
      "cell_type": "code",
      "execution_count": null,
      "metadata": {
        "colab": {
          "base_uri": "https://localhost:8080/",
          "height": 554
        },
        "id": "umzRKdyqMWJo",
        "outputId": "f58f2cf3-f2ad-408d-d81e-aaedbd65ee8b"
      },
      "outputs": [],
      "source": []
    },
    {
      "cell_type": "code",
      "execution_count": null,
      "metadata": {
        "id": "jEu6RVT9P71h"
      },
      "outputs": [],
      "source": [
        "keeplooping=\"TRUE\"\n",
        "while keeplooping:\n",
        "\n",
        "    a={\"shubham\":\"silver\",\"pratik\":\"gold\",\"gopan\":\"platinum\"}\n",
        "    user=input(\"Enter your name:\")\n",
        "    value=a[user]\n",
        "\n",
        "    if value==\"silver\":\n",
        "        print(\"you are silver member:\")\n",
        "        a=int(input(\"Enter the value of A:\"))\n",
        "        b=int(input(\"Enter the value of B:\"))\n",
        "        print(\"1) SUM\")\n",
        "        print(\"2) SUB\")\n",
        "        print(\"3) MUL\")\n",
        "        print(\"4) DIV\")\n",
        "        choice=int(input(\"Enter your choice:\"))\n",
        "\n",
        "        if choice==1:\n",
        "          print(f\"sum of 2 number is {a+b}\")\n",
        "        elif choice==2:\n",
        "          print(\"you are silver member and this function is not for you\")\n",
        "        elif choice==3:\n",
        "          print(\"you are silver member and this function is not for you\")\n",
        "        elif choice==4:\n",
        "          print(\"you are silver member and this function is not for you\")\n",
        "        else:\n",
        "          print(\"teminating a program\")\n",
        "          break\n",
        "    if value==\"gold\":\n",
        "        keeploop1=\"TRUE\"\n",
        "        while keeploop1:\n",
        "\n",
        "          print(\"you are gold member:\")\n",
        "          a=int(input(\"Enter the value of A:\"))\n",
        "          b=int(input(\"Enter the value of B:\"))\n",
        "          print(\"1) SUM\")\n",
        "          print(\"2) SUB\")\n",
        "          print(\"3) MUL\")\n",
        "          print(\"4) DIV\")\n",
        "          print(\"5) exit\")\n",
        "          choice=int(input(\"Enter your choice:\"))\n",
        "\n",
        "          if choice==1:\n",
        "            print(f\"sum of 2 number is {a+b}\")\n",
        "          elif choice==2:\n",
        "            print(f\"sub of 2 number is {a-b}\")\n",
        "          elif choice==3:\n",
        "            print(\"you are silver member and this function is not for you\")\n",
        "          elif choice==4:\n",
        "            print(\"you are silver member and this function is not for you\")\n",
        "          elif choice==5:\n",
        "            break\n",
        "          else:\n",
        "            print(\"teminating a program\")\n",
        "            keeplooping=\"FALSE\" \n",
        "\n",
        "  "
      ]
    },
    {
      "cell_type": "code",
      "execution_count": null,
      "metadata": {
        "id": "NWYy-E1KRNMc"
      },
      "outputs": [],
      "source": [
        "a={\"shubham\":\"gold\"}\n",
        "\n",
        "name=input(\"Enter your name:\")\n",
        "print(\"1)gold\")\n",
        "print(\"2)silver\")\n",
        "print(\"3)platinum\")\n",
        "print(\"what kind of subscription you want to use?\")\n",
        "choice=int(input(\"Enter your choice:\"))\n",
        "if choice==1:\n",
        "  a[name]=\"gold\"\n",
        "elif choice==2:\n",
        "  a[name]=\"silver\"\n",
        "elif choice==3:\n",
        "  a[name]=\"platinum\"\n",
        "\n",
        "print(a)"
      ]
    },
    {
      "cell_type": "code",
      "execution_count": null,
      "metadata": {
        "id": "_WEu0yMoTL5j"
      },
      "outputs": [],
      "source": [
        "count =0"
      ]
    }
  ],
  "metadata": {
    "colab": {
      "collapsed_sections": [],
      "name": "Untitled1.ipynb",
      "provenance": []
    },
    "kernelspec": {
      "display_name": "Python 3",
      "name": "python3"
    },
    "language_info": {
      "name": "python",
      "version": "3.7.0"
    }
  },
  "nbformat": 4,
  "nbformat_minor": 0
}
