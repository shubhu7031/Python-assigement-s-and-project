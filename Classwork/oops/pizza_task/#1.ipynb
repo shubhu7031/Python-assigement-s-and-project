{
 "cells": [
  {
   "cell_type": "code",
   "execution_count": 1,
   "metadata": {},
   "outputs": [],
   "source": [
    "#class and object \n",
    "#class is a user defined datatype\n",
    "#object is the class of the variable"
   ]
  },
  {
   "cell_type": "code",
   "execution_count": 3,
   "metadata": {},
   "outputs": [
    {
     "name": "stdout",
     "output_type": "stream",
     "text": [
      "Shubham\n",
      "Anjali\n"
     ]
    }
   ],
   "source": [
    "class Student:\n",
    "    name=\"Shubham\"\n",
    "class Faculty:\n",
    "    name=\"Anjali\"\n",
    "\n",
    "\n",
    "obj_s=Student()\n",
    "obj_F=Faculty()\n",
    "\n",
    "print(obj_s.name)\n",
    "print(obj_F.name)"
   ]
  },
  {
   "cell_type": "code",
   "execution_count": 4,
   "metadata": {},
   "outputs": [
    {
     "name": "stdout",
     "output_type": "stream",
     "text": [
      "Hello\n"
     ]
    }
   ],
   "source": [
    "class Student:\n",
    "    def display(self):\n",
    "        print(\"Hello\")\n",
    "\n",
    "obj=Student()\n",
    "obj.display()"
   ]
  },
  {
   "cell_type": "code",
   "execution_count": 6,
   "metadata": {},
   "outputs": [
    {
     "name": "stdout",
     "output_type": "stream",
     "text": [
      "vehicletype: Car\n",
      "name: Honda\n",
      "color: White\n",
      "\n",
      "\n",
      "vehicletype: Bike\n",
      "name: Honda\n",
      "color: Black\n",
      "\n",
      "\n"
     ]
    }
   ],
   "source": [
    "class Vehicle:\n",
    "    def input(self,vehicletype,name,color):\n",
    "        self.vehicletype = vehicletype\n",
    "        self.name = name\n",
    "        self.color = color\n",
    "\n",
    "    def output(self):\n",
    "        print(\"vehicletype:\",self.vehicletype)\n",
    "        print(\"name:\",self.name)\n",
    "        print(\"color:\",self.color)\n",
    "        print(\"\\n\")\n",
    "\n",
    "\n",
    "car=Vehicle()\n",
    "car.input(\"Car\",\"Honda\",\"White\")\n",
    "\n",
    "bike=Vehicle()\n",
    "bike.input(\"Bike\",\"Honda\",\"Black\")\n",
    "\n",
    "car.output()\n",
    "bike.output()"
   ]
  },
  {
   "cell_type": "markdown",
   "metadata": {},
   "source": [
    "#pizza store"
   ]
  },
  {
   "cell_type": "code",
   "execution_count": null,
   "metadata": {},
   "outputs": [],
   "source": [
    "class "
   ]
  }
 ],
 "metadata": {
  "interpreter": {
   "hash": "338b3621c20249f62238398016242cfd34d9e3739bdb4c2168e02c349ed95646"
  },
  "kernelspec": {
   "display_name": "Python 3.7.0 32-bit",
   "language": "python",
   "name": "python3"
  },
  "language_info": {
   "codemirror_mode": {
    "name": "ipython",
    "version": 3
   },
   "file_extension": ".py",
   "mimetype": "text/x-python",
   "name": "python",
   "nbconvert_exporter": "python",
   "pygments_lexer": "ipython3",
   "version": "3.7.0"
  },
  "orig_nbformat": 4
 },
 "nbformat": 4,
 "nbformat_minor": 2
}
