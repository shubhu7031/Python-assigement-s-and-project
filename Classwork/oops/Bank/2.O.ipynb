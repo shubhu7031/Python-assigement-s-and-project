{
 "cells": [
  {
   "cell_type": "code",
   "execution_count": 3,
   "metadata": {},
   "outputs": [
    {
     "name": "stdout",
     "output_type": "stream",
     "text": [
      "Welcome to My Bank...!\n",
      "\n",
      "1\n",
      "\n",
      "Your Account has been Succesfully Created...!\n",
      "Your Account No. is:- 1\n"
     ]
    }
   ],
   "source": [
    "import random\n",
    "class bank:\n",
    "  c_id=0\n",
    "  def greet(self):\n",
    "    print(\"Welcome to My Bank...!\\n\")\n",
    "\n",
    "  def option(self):\n",
    "    c_input=int(input(\"1 for Existing Customer.\\n2. for New Customer.\\n\\nChoose option from above:- \"))\n",
    "    if c_input==1:\n",
    "      bank.login(self)\n",
    "    elif c_input==2:\n",
    "      bank.acc_open(self)\n",
    "    else:\n",
    "      print(\"Invalid Option...!\")\n",
    "      bank.option(self)\n",
    "  \n",
    "  def acc_open(self):\n",
    "    self.c_name=input(\"Enter Your Name:- \")\n",
    "    self.c_pass=input(\"Set a Password to Your Digital Account :- \")\n",
    "    self.c_aadhar=int(input(\"Enter Your aadhar No:- \"))\n",
    "    self.c_email_id=input(\"Enter your email id:- \")\n",
    "    self.c_id=self.c_id+1\n",
    "    print(self.c_id)\n",
    "    self.deposit_amt=int(input(\"Enter Amount to deposit:- \"))\n",
    "    csv_file=open(\"customers.csv\",\"a\")\n",
    "    writer = csv.DictWriter(csv_file, fieldnames=fieldnames)\n",
    "    writer.writerow({'Account_No': self.c_id,\n",
    "                     'customer_name': self.c_name,\n",
    "                     'email': self.c_email_id,\n",
    "                     'aadhar':self.c_aadhar,\n",
    "                     'balance':self.deposit_amt,\n",
    "                     'password':self.c_pass\n",
    "                     })\n",
    "    print(\"\\nYour Account has been Succesfully Created...!\\nYour Account No. is:-\",self.c_id)\n",
    "    \n",
    "  \n",
    "\n",
    "  def login(self):\n",
    "    self.cust_id=int(input(\"Enter Account No :- \"))\n",
    "    self.cust_pass=input(\"Enter Your Password :- \")\n",
    "\n",
    "\n",
    "\n",
    "obj=bank()\n",
    "obj.greet()\n",
    "obj.option()"
   ]
  },
  {
   "cell_type": "code",
   "execution_count": 1,
   "metadata": {},
   "outputs": [],
   "source": [
    "import csv\n",
    "\n",
    "with open('customers.csv', mode='w+') as csv_file:\n",
    "    fieldnames = ['Account_No','customer_name', 'email', 'aadhar','balance','password']\n",
    "    writer = csv.DictWriter(csv_file, fieldnames=fieldnames)\n",
    "    writer.writeheader()\n",
    "    "
   ]
  },
  {
   "cell_type": "code",
   "execution_count": null,
   "metadata": {},
   "outputs": [],
   "source": []
  }
 ],
 "metadata": {
  "interpreter": {
   "hash": "338b3621c20249f62238398016242cfd34d9e3739bdb4c2168e02c349ed95646"
  },
  "kernelspec": {
   "display_name": "Python 3.7.0 32-bit",
   "language": "python",
   "name": "python3"
  },
  "language_info": {
   "codemirror_mode": {
    "name": "ipython",
    "version": 3
   },
   "file_extension": ".py",
   "mimetype": "text/x-python",
   "name": "python",
   "nbconvert_exporter": "python",
   "pygments_lexer": "ipython3",
   "version": "3.7.0"
  },
  "orig_nbformat": 4
 },
 "nbformat": 4,
 "nbformat_minor": 2
}
