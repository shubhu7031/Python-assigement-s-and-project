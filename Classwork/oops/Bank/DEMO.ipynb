{
 "cells": [
  {
   "cell_type": "code",
   "execution_count": 22,
   "metadata": {},
   "outputs": [
    {
     "name": "stdout",
     "output_type": "stream",
     "text": [
      "Welcome to apni bank\n",
      "Welcome shubham!!\n",
      " \n",
      "press 1: for deposit\n",
      "press 2: for withdrawal\n",
      "press 3: for check balance\n",
      "press 4:for exit\n",
      "withdrawal section\n",
      "you don't have enough funds to withdraw\n",
      "your available balance is is 0\n",
      "deposit section\n",
      "your amount is successfully deposit\n",
      "your current balance is 1000\n",
      "withdrawal section\n",
      "your request for withdraw balance:500\n",
      "your withdraw request is successfully completed\n",
      "available balance is 500\n",
      "your available balance is 500\n",
      "invalid option\n",
      "invalid option\n",
      "deposit section\n",
      "your amount is successfully deposit\n",
      "your current balance is 504\n",
      "Exit\n"
     ]
    }
   ],
   "source": [
    "class bank:\n",
    "\n",
    "    current_balance=0\n",
    "    deposit_balance=0\n",
    "    withdraw_balance=0\n",
    "\n",
    "\n",
    "    def __init__(self):\n",
    "        self.name=input(\"Enter your name:\")\n",
    "        self.number=int(input(\"Enter your number:\"))\n",
    "        print(f\"Welcome {self.name}!!\")\n",
    "\n",
    "    def deposit(self):\n",
    "        \n",
    "        self.deposit_balance=int(input(\"Enter the amount you want to deposit:\"))\n",
    "\n",
    "        if self.deposit_balance<0:\n",
    "            print(\"you can't depoist the amount below 1\")\n",
    "            print(\"kindly check the amount\")\n",
    "            self.deposit()\n",
    "        else:\n",
    "            self.current_balance=self.current_balance+self.deposit_balance\n",
    "            print(\"your amount is successfully deposit\")\n",
    "            print(f\"your current balance is {self.current_balance}\")\n",
    "\n",
    "\n",
    "    \n",
    "    def withdraw(self):\n",
    "\n",
    "        self.withdraw_balance=int(input(\"Enter the amount to withdraw:\"))\n",
    "\n",
    "        if self.withdraw_balance>self.current_balance:\n",
    "            print(\"you don't have enough funds to withdraw\")\n",
    "            print(f\"your available balance is is {self.current_balance}\")\n",
    "        \n",
    "        else:\n",
    "            self.current_balance=self.current_balance-self.withdraw_balance\n",
    "            print(f\"your request for withdraw balance:{self.withdraw_balance}\")\n",
    "            print(\"your withdraw request is successfully completed\")\n",
    "            print(f\"available balance is {self.current_balance}\")\n",
    "    \n",
    "    def display_balance(self):\n",
    "        print(f\"your available balance is {self.current_balance}\")\n",
    "\n",
    "\n",
    "\n",
    "\n",
    "print(\"Welcome to apni bank\")\n",
    "obj=bank()\n",
    "print(\"\"\" \n",
    "press 1: for deposit\n",
    "press 2: for withdrawal\n",
    "press 3: for check balance\n",
    "press 4:for exit\"\"\")\n",
    "\n",
    "keeplooping=\"TRUE\"\n",
    "\n",
    "while keeplooping:\n",
    "\n",
    "    user_option=int(input(\"please select the option:\"))\n",
    "\n",
    "    if user_option==1:\n",
    "        print(\"deposit section\")\n",
    "        obj.deposit()\n",
    "    elif user_option==2:\n",
    "        print(\"withdrawal section\")\n",
    "        obj.withdraw()\n",
    "    elif user_option==3:\n",
    "        obj.display_balance()\n",
    "    elif user_option==4:\n",
    "        print(\"Exit\")\n",
    "        keeplooping==\"FALSE\"\n",
    "        break\n",
    "    else:\n",
    "        print(\"invalid option\")\n",
    "\n",
    "\n"
   ]
  },
  {
   "cell_type": "code",
   "execution_count": 4,
   "metadata": {},
   "outputs": [
    {
     "name": "stdout",
     "output_type": "stream",
     "text": [
      "1\n",
      "515\n"
     ]
    }
   ],
   "source": [
    "import random\n",
    "\n",
    "x=0\n",
    "\n",
    "y=random.randint(0,999)\n",
    "\n",
    "if x==0:\n",
    "    x=x+1\n",
    "    print(x)\n",
    "\n",
    "print()"
   ]
  },
  {
   "cell_type": "code",
   "execution_count": null,
   "metadata": {},
   "outputs": [],
   "source": []
  },
  {
   "cell_type": "code",
   "execution_count": null,
   "metadata": {},
   "outputs": [],
   "source": []
  }
 ],
 "metadata": {
  "interpreter": {
   "hash": "338b3621c20249f62238398016242cfd34d9e3739bdb4c2168e02c349ed95646"
  },
  "kernelspec": {
   "display_name": "Python 3.7.0 32-bit",
   "language": "python",
   "name": "python3"
  },
  "language_info": {
   "codemirror_mode": {
    "name": "ipython",
    "version": 3
   },
   "file_extension": ".py",
   "mimetype": "text/x-python",
   "name": "python",
   "nbconvert_exporter": "python",
   "pygments_lexer": "ipython3",
   "version": "3.7.0"
  },
  "orig_nbformat": 4
 },
 "nbformat": 4,
 "nbformat_minor": 2
}
