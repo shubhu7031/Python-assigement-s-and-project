{
 "cells": [
  {
   "cell_type": "code",
   "execution_count": 1,
   "metadata": {},
   "outputs": [
    {
     "name": "stdout",
     "output_type": "stream",
     "text": [
      "Welcome to the TOPS\n"
     ]
    }
   ],
   "source": [
    "class student:\n",
    "    def __init__(self):\n",
    "        print(\"Welcome to the TOPS\")\n",
    "\n",
    "obj=student()\n"
   ]
  },
  {
   "cell_type": "markdown",
   "metadata": {},
   "source": [
    "Encapsulation'"
   ]
  },
  {
   "cell_type": "code",
   "execution_count": 2,
   "metadata": {},
   "outputs": [
    {
     "data": {
      "text/plain": [
       "'10'"
      ]
     },
     "execution_count": 2,
     "metadata": {},
     "output_type": "execute_result"
    }
   ],
   "source": [
    "class Student:\n",
    "    def setname(self,name):\n",
    "        self.name=name\n",
    "    def getname(self):\n",
    "        return self.name\n",
    "\n",
    "obj=Student()\n",
    "name=input(\"Enter your name:\")\n",
    "obj.setname(name)\n",
    "obj.getname()"
   ]
  },
  {
   "cell_type": "markdown",
   "metadata": {},
   "source": [
    "access modifiers\n",
    "1)private\n",
    "it is only accessible within the class\n",
    "__(double underscore for the private)\n",
    "\n",
    "2)public\n",
    "we can access it inside the class and outside the class\n",
    "\n",
    "3)protected\n",
    "it is accessible by own class and its child class\n",
    "_(single underscore for the protected)"
   ]
  },
  {
   "cell_type": "code",
   "execution_count": 3,
   "metadata": {},
   "outputs": [
    {
     "name": "stdout",
     "output_type": "stream",
     "text": [
      "Mobile: 5000\n",
      "Laptop: 6000\n",
      "Mobile: 15000\n",
      "Laptop: 6000\n"
     ]
    }
   ],
   "source": [
    "class product:\n",
    "    def __init__(self):\n",
    "        self.mobile=5000\n",
    "        self.__laptop=6000\n",
    "    \n",
    "    def display(self):\n",
    "        print(\"Mobile:\",self.mobile)\n",
    "        print(\"Laptop:\",self.__laptop)\n",
    "\n",
    "\n",
    "obj=product()\n",
    "obj.display()\n",
    "\n",
    "obj.mobile=15000\n",
    "obj.__laptop=65000\n",
    "\n",
    "\n",
    "obj.display()"
   ]
  },
  {
   "cell_type": "markdown",
   "metadata": {},
   "source": [
    "multiple inheritance"
   ]
  },
  {
   "cell_type": "code",
   "execution_count": 4,
   "metadata": {},
   "outputs": [
    {
     "name": "stdout",
     "output_type": "stream",
     "text": [
      "1600\n"
     ]
    }
   ],
   "source": [
    "class A:\n",
    "    def input_data(self):\n",
    "        self.num1=int(input(\"Enter the num 1 :\"))\n",
    "        self.num2=int(input(\"Enter the num 2 :\"))\n",
    "\n",
    "class B(A):\n",
    "    def ans(self):\n",
    "        self.ans=self.num1+self.num2\n",
    "        return(self.ans)\n",
    "class C(B):\n",
    "    def square(self):\n",
    "        self.res=self.ans * self.ans\n",
    "        print(self.res)\n",
    "\n",
    "obj=C()\n",
    "obj.input_data()\n",
    "obj.ans()\n",
    "obj.square()\n",
    "    "
   ]
  },
  {
   "cell_type": "markdown",
   "metadata": {},
   "source": [
    "multileval inheritance"
   ]
  },
  {
   "cell_type": "code",
   "execution_count": 7,
   "metadata": {},
   "outputs": [
    {
     "name": "stdout",
     "output_type": "stream",
     "text": [
      "inputA excuted\n",
      "inputB excuted\n",
      "Sum excuted\n",
      "20\n"
     ]
    }
   ],
   "source": [
    "class A:\n",
    "    def inputA(self):\n",
    "        print(\"inputA excuted\")\n",
    "        self.num1=int(input(\"Enter num1:\"))\n",
    "    \n",
    "class B:\n",
    "    def inputB(self):\n",
    "        print(\"inputB excuted\")\n",
    "        self.num2=int(input(\"Enter num2:\"))\n",
    "\n",
    "class C(A,B):\n",
    "    def sum(self):\n",
    "        print(\"Sum excuted\")\n",
    "        self.ans=self.num2+self.num1\n",
    "        print(self.ans)\n",
    "\n",
    "obj=C()\n",
    "obj.inputA()\n",
    "obj.inputB()\n",
    "obj.sum()"
   ]
  },
  {
   "cell_type": "markdown",
   "metadata": {},
   "source": [
    "multileval inheritane"
   ]
  },
  {
   "cell_type": "code",
   "execution_count": 10,
   "metadata": {},
   "outputs": [
    {
     "name": "stdout",
     "output_type": "stream",
     "text": [
      "20\n",
      "0\n"
     ]
    }
   ],
   "source": [
    "class A:\n",
    "    def inputA(self):\n",
    "        self.num1=int(input(\"Enter num1:\"))\n",
    "        self.num2=int(input(\"Enter num2:\"))\n",
    "class B(A):\n",
    "    def add(self):\n",
    "        self.ans=self.num1+self.num2\n",
    "        return self.ans\n",
    "class C(B):\n",
    "    def sub(self):\n",
    "        self.ans=self.num1-self.num2\n",
    "        return self.ans\n",
    "\n",
    "b=B()\n",
    "b.inputA()\n",
    "print(b.add())\n",
    "c=C()\n",
    "c.inputA()\n",
    "print(c.sub())\n",
    "\n"
   ]
  },
  {
   "cell_type": "markdown",
   "metadata": {},
   "source": [
    "hybrid inheritance"
   ]
  },
  {
   "cell_type": "code",
   "execution_count": 16,
   "metadata": {},
   "outputs": [
    {
     "name": "stdout",
     "output_type": "stream",
     "text": [
      "method of D class\n",
      "method of A class\n",
      "method of C class\n",
      "break\n",
      "method of C class\n",
      "method of A class\n"
     ]
    }
   ],
   "source": [
    "class A:\n",
    "    def printA(self):\n",
    "        print(\"method of A class\")\n",
    "\n",
    "class B(A):\n",
    "    def printB(self):\n",
    "        print(\"method of B class\")\n",
    "\n",
    "class C(A):\n",
    "    def printC(self):\n",
    "        print(\"method of C class\")\n",
    "\n",
    "class D(C):\n",
    "    def printd(self):\n",
    "        print(\"method of D class\")\n",
    "\n",
    "d=D()\n",
    "d.printd()\n",
    "d.printA()\n",
    "d.printC()\n",
    "print(\"break\")\n",
    "\n",
    "c=C()\n",
    "c.printC()\n",
    "c.printA()"
   ]
  },
  {
   "cell_type": "markdown",
   "metadata": {},
   "source": [
    "polymorphism\n",
    "\n",
    "\n",
    "poly means many and morphism means forms \n",
    "\n",
    "2 types\n",
    "\n",
    "1) method overloading\n",
    "2) method overloading "
   ]
  },
  {
   "cell_type": "code",
   "execution_count": 2,
   "metadata": {},
   "outputs": [
    {
     "name": "stdout",
     "output_type": "stream",
     "text": [
      "parent ROI\n",
      "child ROI\n"
     ]
    }
   ],
   "source": [
    "class RBI:\n",
    "    def roi(self):\n",
    "        print(\"parent ROI\")\n",
    "\n",
    "class SBI(RBI):\n",
    "    def roi(self):\n",
    "        RBI.roi(self)\n",
    "        print(\"child ROI\")\n",
    "\n",
    "obj=SBI()\n",
    "obj.roi()"
   ]
  },
  {
   "cell_type": "markdown",
   "metadata": {},
   "source": [
    "\n",
    "                                                        Abstraction\n",
    "\n",
    "abstraction :: which is allocate only few infromation not allocated background infromation is called:\n",
    "\n",
    "abstraction :: which is contain abstract method \n",
    "\n",
    "abstract method :::\n",
    "\n",
    " def myfun() # abstract method\n",
    " \n",
    " def myfun():\n",
    "        {\n",
    "            body\n",
    "        }"
   ]
  },
  {
   "cell_type": "code",
   "execution_count": 4,
   "metadata": {},
   "outputs": [
    {
     "name": "stdout",
     "output_type": "stream",
     "text": [
      "SBI\n",
      "8.5\n",
      "BOI\n",
      "9.5\n"
     ]
    }
   ],
   "source": [
    "from abc import ABC,abstractmethod\n",
    "\n",
    "\n",
    "class RBI(ABC):\n",
    "    @abstractmethod\n",
    "    def roi(self):\n",
    "        pass\n",
    "\n",
    "\n",
    "class SBI(RBI):\n",
    "    def roi(self):\n",
    "        print(\"SBI\")\n",
    "        print(\"8.5\")\n",
    "\n",
    "class BOI(RBI):\n",
    "    def roi(self):\n",
    "        print(\"BOI\")\n",
    "        print(\"9.5\")\n",
    "\n",
    "\n",
    "sbi=SBI()\n",
    "boi=BOI()\n",
    "\n",
    "\n",
    "sbi.roi()\n",
    "boi.roi()"
   ]
  },
  {
   "cell_type": "code",
   "execution_count": 11,
   "metadata": {},
   "outputs": [
    {
     "name": "stdout",
     "output_type": "stream",
     "text": [
      "120KMH\n",
      "60KMH\n"
     ]
    }
   ],
   "source": [
    "from abc import ABC,abstractmethod\n",
    "\n",
    "class Vehicle(ABC):\n",
    "    @abstractmethod\n",
    "    def speed(self):\n",
    "        pass\n",
    "\n",
    "\n",
    "class Car(Vehicle):\n",
    "    def speed(self):\n",
    "        print(\"120KMH\")\n",
    "\n",
    "\n",
    "\n",
    "class Bike(Vehicle):\n",
    "    def speed(self):\n",
    "        print(\"60KMH\")\n",
    "\n",
    "\n",
    "car=Car()\n",
    "bike=Bike()\n",
    "\n",
    "car.speed()\n",
    "bike.speed()\n"
   ]
  },
  {
   "cell_type": "code",
   "execution_count": 18,
   "metadata": {},
   "outputs": [
    {
     "name": "stdout",
     "output_type": "stream",
     "text": [
      "1\n"
     ]
    }
   ],
   "source": [
    "class A:\n",
    "    c_id=0\n",
    "    user=int(input(\"Enter num:\"))\n",
    "\n",
    "    def login(self):\n",
    "        if self.user==4:\n",
    "            self.c_id=self.c_id+1\n",
    "        print(self.c_id)\n",
    "\n",
    "    \n",
    "a=A()\n",
    "a.login()\n",
    "\n",
    "\n",
    "        "
   ]
  },
  {
   "cell_type": "code",
   "execution_count": 3,
   "metadata": {},
   "outputs": [
    {
     "name": "stdout",
     "output_type": "stream",
     "text": [
      "['a', 'b', 'c', 'd', 'e', 'f']\n"
     ]
    }
   ],
   "source": [
    "class demo:\n",
    "    def __init__(self):\n",
    "        l1=[\"a\",\"b\",\"c\",\"d\",\"e\",\"f\"]\n",
    "        self.l1=l1\n",
    "    \n",
    "    def abc(self):\n",
    "        print(self.l1)\n",
    "\n",
    "obj=demo()\n",
    "obj.abc()\n",
    "    \n",
    "\n"
   ]
  },
  {
   "cell_type": "code",
   "execution_count": null,
   "metadata": {},
   "outputs": [],
   "source": []
  }
 ],
 "metadata": {
  "interpreter": {
   "hash": "338b3621c20249f62238398016242cfd34d9e3739bdb4c2168e02c349ed95646"
  },
  "kernelspec": {
   "display_name": "Python 3.7.0 32-bit",
   "language": "python",
   "name": "python3"
  },
  "language_info": {
   "codemirror_mode": {
    "name": "ipython",
    "version": 3
   },
   "file_extension": ".py",
   "mimetype": "text/x-python",
   "name": "python",
   "nbconvert_exporter": "python",
   "pygments_lexer": "ipython3",
   "version": "3.7.0"
  },
  "orig_nbformat": 4
 },
 "nbformat": 4,
 "nbformat_minor": 2
}
