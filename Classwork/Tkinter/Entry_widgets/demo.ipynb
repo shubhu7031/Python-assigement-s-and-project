{
 "cells": [
  {
   "cell_type": "code",
   "execution_count": 11,
   "metadata": {},
   "outputs": [],
   "source": [
    "import datetime\n",
    "\n",
    "def myfun():\n",
    "\n",
    "    date=datetime.date.today()\n",
    "    date=str(date)\n",
    "    file=open(date,\"a\")\n",
    "    \n",
    "    fname=\"gopan\"\n",
    "    lname=\"gopan part 2\"\n",
    "    data=(f\"\\n{fname},{lname}\")\n",
    "\n",
    "    file.write(data)\n",
    "    file.close()\n",
    "\n",
    "\n",
    "myfun()"
   ]
  },
  {
   "cell_type": "code",
   "execution_count": null,
   "metadata": {},
   "outputs": [],
   "source": []
  }
 ],
 "metadata": {
  "interpreter": {
   "hash": "338b3621c20249f62238398016242cfd34d9e3739bdb4c2168e02c349ed95646"
  },
  "kernelspec": {
   "display_name": "Python 3.7.0 32-bit",
   "language": "python",
   "name": "python3"
  },
  "language_info": {
   "codemirror_mode": {
    "name": "ipython",
    "version": 3
   },
   "file_extension": ".py",
   "mimetype": "text/x-python",
   "name": "python",
   "nbconvert_exporter": "python",
   "pygments_lexer": "ipython3",
   "version": "3.7.0"
  },
  "orig_nbformat": 4
 },
 "nbformat": 4,
 "nbformat_minor": 2
}
