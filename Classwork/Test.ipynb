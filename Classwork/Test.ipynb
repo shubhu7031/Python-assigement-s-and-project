{
 "cells": [
  {
   "cell_type": "code",
   "execution_count": null,
   "metadata": {},
   "outputs": [],
   "source": [
    "from googletrans import Translator,LANGUAGES\n",
    "\n",
    "translator=Translator()\n",
    "\n",
    "text=input(\"Enter the text you want to translate\")\n",
    "source_src=translator.detect(text)\n",
    "\n",
    "dest_src=input(\"Enter the destination language:\")\n",
    "count=1\n",
    "for key, value in LANGUAGES.items():\n",
    "    print(f\"{count}) {value}:{key}\")\n",
    "    count += 1\n",
    "\n",
    "for key,value in LANGUAGES.items():\n",
    "    if value==dest_src:\n",
    "        result=key\n",
    "        print(result)\n",
    "\n",
    "\n",
    "translated_text = translator.translate(text, src=source_src.lang, dest =result)\n",
    "print(translated_text)\n",
    "\n",
    "print(f\"your original text: is:{text}\")\n",
    "print(f\"your text is translate in:{LANGUAGES[result]}\")\n",
    "print(f\"your translated text: is:{translated_text.text}\")\n",
    "print(f\"your text is pronunciation as:{translated_text.pronunciation}\")\n",
    "\n"
   ]
  },
  {
   "cell_type": "code",
   "execution_count": 5,
   "metadata": {},
   "outputs": [],
   "source": [
    "# from tkinter import *\n",
    "# from tkinter import ttk\n",
    "# from googletrans import Translator, LANGUAGES\n",
    "\n",
    "# root = Tk()\n",
    "# root.geometry('1080x400')\n",
    "\n",
    "# root.resizable(0,0)\n",
    "# root.config(bg = 'ghost white')\n",
    "\n",
    "\n",
    "\n",
    "# root.title(\"Project Gurukul--Language Translator\")\n",
    "\n",
    "# Label(root, text = \"LANGUAGE TRANSLATOR\", font = \"arial 20 bold\", bg='white smoke').pack()\n",
    "\n",
    "# Label(root,text =\"Project Gurukul\", font = 'arial 15 bold', bg ='white smoke' , width = '20').pack(side = 'bottom')\n",
    "\n",
    "# Label(root,text =\"Enter Text\", font = 'arial 13 bold', bg ='white smoke').place(x=200,y=60)\n",
    "\n",
    "# Input_text = Text(root,font = 'arial 10', height = 11, wrap = WORD, padx=5, pady=5, width = 60)\n",
    "# Input_text.place(x=30,y = 100)\n",
    "\n",
    "# Label(root,text =\"Output\", font = 'arial 13 bold', bg ='white smoke').place(x=780,y=60)\n",
    "\n",
    "# Output_text = Text(root,font = 'arial 10', height = 11, wrap = WORD, padx=5, pady= 5, width =60)\n",
    "# Output_text.place(x = 600 , y = 100)\n",
    "\n",
    "\n",
    "# language = list(LANGUAGES.values())\n",
    "\n",
    "# src_lang = ttk.Combobox(root, values= language, width =22)\n",
    "# src_lang.place(x=20,y=60)\n",
    "# src_lang.set('choose input language')\n",
    "\n",
    "# dest_lang = ttk.Combobox(root, values= language, width =22)\n",
    "# dest_lang.place(x=890,y=60)\n",
    "# dest_lang.set('choose output language')\n",
    "\n",
    "\n",
    "\n",
    "# def Translate():\n",
    "#     translator = Translator()\n",
    "#     translated=translator.translate(text= Input_text.get(1.0, END) , src = src_lang.get(), dest = dest_lang.get())\n",
    "\n",
    "#     Output_text.delete(1.0, END)\n",
    "#     Output_text.insert(END, translated.text)\n",
    "\n",
    "\n",
    "# trans_btn = Button(root, text = 'Translate',font = 'arial 12 bold',pady = 5,command = Translate , bg = 'royal blue1', activebackground = 'sky blue')\n",
    "\n",
    "# trans_btn.place(x = 490, y= 180 )\n",
    "\n",
    "# root.mainloop()"
   ]
  },
  {
   "cell_type": "code",
   "execution_count": 2,
   "metadata": {},
   "outputs": [],
   "source": [
    "from tkinter import *\n",
    "from tkinter import ttk\n",
    "from googletrans import Translator, LANGUAGES\n",
    "\n",
    "root = Tk()\n",
    "root.geometry('400x600')\n",
    "\n",
    "root.resizable(0,0)\n",
    "root.config(bg = 'ghost white')\n",
    "\n",
    "\n",
    "\n",
    "root.title(\"Project Gurukul--Language Translator\")\n",
    "\n",
    "#createing a input button field\n",
    "\n",
    "Label(root,text =\"Enter Text:\", font = 'arial 13 bold', bg ='white smoke').place(x=20,y=60)\n",
    "\n",
    "Input_text = Text(root,font = 'arial 10', height = 1, wrap = WORD, padx=5, pady=5, width = 20)\n",
    "Input_text.place(x=30,y = 100)\n",
    "\n",
    "\n",
    "Label(root,text =\"Output text:\", font = 'arial 13 bold', bg ='white smoke').place(x=20,y=150)\n",
    "\n",
    "Output_text = Text(root,font = 'arial 10', height = 1, wrap = WORD, padx=5, pady=5, width = 20)\n",
    "Output_text.place(x=60,y = 250)\n",
    "\n",
    "language = list(LANGUAGES.values())\n",
    "\n",
    "src_lang = ttk.Combobox(root, values= language, width =22)\n",
    "src_lang.place(x=20,y=60)\n",
    "src_lang.set('choose input language')\n",
    "\n",
    "dest_lang = ttk.Combobox(root, values= language, width =22)\n",
    "dest_lang.place(x=40,y=180)\n",
    "dest_lang.set('choose output language')\n",
    "\n",
    "\n",
    "\n",
    "def Translate():\n",
    "    translator = Translator()\n",
    "    translated=translator.translate(text= Input_text.get(1.0, END) , src = src_lang.get(), dest = dest_lang.get())\n",
    "\n",
    "    Output_text.delete(1.0, END)\n",
    "    Output_text.insert(END, translated.text)\n",
    "\n",
    "\n",
    "trans_btn = Button(root, text = 'Translate',font = 'arial 12 bold',pady = 5,command = Translate , bg = 'royal blue1', activebackground = 'sky blue')\n",
    "\n",
    "trans_btn.place(x = 500, y= 180 )\n",
    "\n",
    "\n",
    "\n",
    "\n",
    "root.mainloop()"
   ]
  },
  {
   "cell_type": "markdown",
   "metadata": {},
   "source": [
    "English to Gujarati Translator "
   ]
  },
  {
   "cell_type": "code",
   "execution_count": 7,
   "metadata": {},
   "outputs": [
    {
     "name": "stdout",
     "output_type": "stream",
     "text": [
      "Translated(src=kn, dest=gu, text=નિર્માણ, pronunciation=Nirmāṇa, extra_data=\"{'confiden...\")\n",
      "your original text: is:srushti\n",
      "your translated text: is:નિર્માણ\n"
     ]
    }
   ],
   "source": [
    "from googletrans import Translator,LANGUAGES\n",
    "\n",
    "translator=Translator()\n",
    "\n",
    "text=input(\"Enter the text you want to translate:\")\n",
    "source_src=translator.detect(text)\n",
    "\n",
    "\n",
    "    \n",
    "dest=\"gu\"\n",
    "\n",
    "\n",
    "\n",
    "translated_text = translator.translate(text, src=source_src.lang, dest=dest)\n",
    "print(translated_text)\n",
    "\n",
    "print(f\"your original text: is:{text}\")\n",
    "#print(f\"your text is translate in:{LANGUAGES[result]}\")\n",
    "print(f\"your translated text: is:{translated_text.text}\")\n",
    "#print(f\"your text is pronunciation as:{translated_text.pronunciation}\")"
   ]
  },
  {
   "cell_type": "code",
   "execution_count": 6,
   "metadata": {},
   "outputs": [
    {
     "name": "stdout",
     "output_type": "stream",
     "text": [
      "subham (te) --> સારું (gu)\n"
     ]
    }
   ],
   "source": [
    "from googletrans import Translator\n",
    "translator = Translator()\n",
    "\n",
    "\n",
    "translation = translator.translate(\"subham\",dest='gu')\n",
    "print(f\"{translation.origin} ({translation.src}) --> {translation.text} ({translation.dest})\")"
   ]
  },
  {
   "cell_type": "code",
   "execution_count": null,
   "metadata": {},
   "outputs": [],
   "source": []
  }
 ],
 "metadata": {
  "interpreter": {
   "hash": "b73ca3a6efd9e3d978d399c5bfba072cfec22788e5a7dfe6a5b984ef01774c7b"
  },
  "kernelspec": {
   "display_name": "Python 3 (ipykernel)",
   "language": "python",
   "name": "python3"
  },
  "language_info": {
   "codemirror_mode": {
    "name": "ipython",
    "version": 3
   },
   "file_extension": ".py",
   "mimetype": "text/x-python",
   "name": "python",
   "nbconvert_exporter": "python",
   "pygments_lexer": "ipython3",
   "version": "3.7.0"
  }
 },
 "nbformat": 4,
 "nbformat_minor": 2
}
