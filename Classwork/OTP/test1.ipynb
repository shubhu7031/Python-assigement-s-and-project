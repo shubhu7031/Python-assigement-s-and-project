{
 "cells": [
  {
   "cell_type": "code",
   "execution_count": 14,
   "metadata": {},
   "outputs": [],
   "source": [
    "import smtplib\n",
    "def SendEmail(to,content):\n",
    "    # for sending a Email\n",
    "\n",
    "    server = smtplib.SMTP('smtp.gmail.com', 587)\n",
    "    server.ehlo()\n",
    "    server.starttls()\n",
    "    server.login('rroot310@gmail.com', 'RROOT@#$310')\n",
    "    server.sendmail('rroot310@gmail.com',to, content)\n",
    "    server.close()\n",
    "\n",
    "\n",
    "to=\"smevada777@gmail.com\"\n",
    "content=\"hello\"\n",
    "SendEmail(to,content)"
   ]
  },
  {
   "cell_type": "code",
   "execution_count": 13,
   "metadata": {},
   "outputs": [
    {
     "name": "stdout",
     "output_type": "stream",
     "text": [
      "3832\n",
      "login unsuccessful\n",
      "4684\n",
      "your OTP for the apni bank is 4684\n",
      "you have -2 tries left to login\n",
      "login successfully!!\n"
     ]
    }
   ],
   "source": [
    "import random\n",
    "import smtplib\n",
    "\n",
    "def SendEmail(to,content):\n",
    "    # for sending a Email\n",
    "\n",
    "    server = smtplib.SMTP('smtp.gmail.com', 587)\n",
    "    server.ehlo()\n",
    "    server.starttls()\n",
    "    server.login('rroot310@gmail.com', 'RROOT@#$310')\n",
    "    server.sendmail('rroot310@gmail.com',to, content)\n",
    "    server.close()\n",
    "\n",
    "\n",
    "def main():\n",
    "    #to=input('Enter your email address:')\n",
    "    otp=random.randint(0000,9000)\n",
    "    print(otp)\n",
    "    content=f\"your OTP for the apni bank is {otp}\"\n",
    "    #SendEmail(to,content)\n",
    "    count=0\n",
    "\n",
    "    user_otp=int(input(\"Enter the otp\"))\n",
    "    while count<4:\n",
    "        \n",
    "        if user_otp==otp:\n",
    "            print(\"login successfully!!\")\n",
    "            #bank.bank()\n",
    "            break\n",
    "        else:\n",
    "            print(\"login unsuccessful\")\n",
    "            count+=1\n",
    "            otp=random.randint(0000,9000)\n",
    "            print(otp)\n",
    "            content=f\"your OTP for the apni bank is {otp}\"\n",
    "            print(content)\n",
    "            #SendEmail(to,content)\n",
    "            print(f\"you have {count-3} tries left to login\")\n",
    "            user_otp=int(input(\"Enter the OTP again:\"))\n",
    "            if count==3:\n",
    "                print(\"your action has been blocked\")\n",
    "                break\n",
    "\n",
    "main()"
   ]
  },
  {
   "cell_type": "code",
   "execution_count": 27,
   "metadata": {},
   "outputs": [],
   "source": [
    "name=input(\"Enter your name:\")\n",
    "age=input(\"Enter your age:\")\n",
    "query=input(\"Enter your query:\")\n",
    "server = smtplib.SMTP('smtp.gmail.com', 587)\n",
    "server.ehlo()\n",
    "server.starttls()\n",
    "server.login('rroot310@gmail.com', 'RROOT@#$310')\n",
    "content=(f\"hello sir {name} is contect via your website\\nbelow are the information\\nage:{age}\\nquery:{query}\")\n",
    "server.sendmail('rroot310@gmail.com','smevada777@gmail.com', content)\n",
    "server.close()"
   ]
  },
  {
   "cell_type": "code",
   "execution_count": 37,
   "metadata": {},
   "outputs": [
    {
     "name": "stdout",
     "output_type": "stream",
     "text": [
      "<class 'int'>\n",
      "8810\n"
     ]
    }
   ],
   "source": [
    "random"
   ]
  },
  {
   "cell_type": "code",
   "execution_count": 9,
   "metadata": {},
   "outputs": [
    {
     "name": "stdout",
     "output_type": "stream",
     "text": [
      "1234XYZ\n",
      "1234XYZ\n",
      "match found\n"
     ]
    }
   ],
   "source": [
    "a1=\"1234XYZ\"\n",
    "print(a1)\n",
    "\n",
    "a2=input(\"Enter the value\")\n",
    "print(a2)\n",
    "\n",
    "if a1==a2:\n",
    "    print(\"match found\")\n",
    "else:\n",
    "    print(\"no match found\")"
   ]
  },
  {
   "cell_type": "code",
   "execution_count": 28,
   "metadata": {},
   "outputs": [],
   "source": [
    "\n",
    "server = smtplib.SMTP('smtp.gmail.com', 587)\n",
    "server.ehlo()\n",
    "server.starttls()\n",
    "server.login('rroot310@gmail.com', 'RROOT@#$310')\n",
    "content=(\"hello pratik my name is DORA why are you not answering my master's call he is very angery at you\")\n",
    "server.sendmail('rroot310@gmail.com','pratikpurohit1411@gmail.com', content)\n",
    "server.close()"
   ]
  }
 ],
 "metadata": {
  "interpreter": {
   "hash": "b73ca3a6efd9e3d978d399c5bfba072cfec22788e5a7dfe6a5b984ef01774c7b"
  },
  "kernelspec": {
   "display_name": "Python 3.7.0 32-bit",
   "language": "python",
   "name": "python3"
  },
  "language_info": {
   "codemirror_mode": {
    "name": "ipython",
    "version": 3
   },
   "file_extension": ".py",
   "mimetype": "text/x-python",
   "name": "python",
   "nbconvert_exporter": "python",
   "pygments_lexer": "ipython3",
   "version": "3.7.0"
  },
  "orig_nbformat": 4
 },
 "nbformat": 4,
 "nbformat_minor": 2
}
